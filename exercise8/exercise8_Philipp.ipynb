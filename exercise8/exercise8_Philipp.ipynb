{
 "cells": [
  {
   "cell_type": "markdown",
   "metadata": {},
   "source": [
    "# Statistical Machine Learning Exercise Sheet 8\r\n",
    "- Laura Haege\r\n",
    "- Philipp Noel von Bachmann, Matrikelnummer: 4116220"
   ]
  },
  {
   "cell_type": "code",
   "execution_count": 1,
   "metadata": {},
   "outputs": [],
   "source": [
    "import numpy as np\n",
    "from scipy.linalg import cho_factor, cho_solve\n",
    "import itertools\n",
    "from tqdm import tqdm"
   ]
  },
  {
   "cell_type": "code",
   "execution_count": 2,
   "metadata": {},
   "outputs": [],
   "source": [
    "data = np.load(\"DataFeatSel.npy\", allow_pickle=True).item()\n",
    "X_train = data[\"Xtrain\"]\n",
    "Y_train = data[\"Ytrain\"]\n",
    "X_test = data[\"Xtest\"]\n",
    "Y_test = data[\"Ytest\"]"
   ]
  },
  {
   "cell_type": "markdown",
   "metadata": {},
   "source": [
    "## Exercise 14"
   ]
  },
  {
   "cell_type": "code",
   "execution_count": 3,
   "metadata": {},
   "outputs": [],
   "source": [
    "def train(X, y):\n",
    "    w = cho_solve(cho_factor(X.T @ X), X.T @ y)\n",
    "    return w, X @ w"
   ]
  },
  {
   "cell_type": "code",
   "execution_count": 4,
   "metadata": {},
   "outputs": [],
   "source": [
    "def Loss(y_pred, y):\r\n",
    "    return 0.5*np.sum(np.abs(y - np.sign(y_pred)))/len(y)"
   ]
  },
  {
   "cell_type": "code",
   "execution_count": 5,
   "metadata": {},
   "outputs": [],
   "source": [
    "def CrossValidation(X, Y, k=5, use_tqdm=True):\r\n",
    "    min_loss = np.inf\r\n",
    "    min_mask = []\r\n",
    "\r\n",
    "    X_split = np.array(np.array_split(X, k))\r\n",
    "    Y_split = np.array(np.array_split(Y, k))\r\n",
    "\r\n",
    "    masks = list(itertools.product([True, False], repeat=X.shape[1]))[:-1]\r\n",
    "    if use_tqdm:\r\n",
    "        masks = tqdm(masks)\r\n",
    "    for m in masks:\r\n",
    "        # compute k-fold cross validation\r\n",
    "        validation_loss = []\r\n",
    "        for i in range(k):\r\n",
    "            x_train = np.concatenate(np.delete(X_split, i, axis=0))[:, m] # add mask\r\n",
    "            y_train = np.concatenate(np.delete(Y_split, i, axis=0))\r\n",
    "            x_val = X_split[i][:, m] # add mask\r\n",
    "            y_val = Y_split[i]\r\n",
    "            w, x_pred = train(x_train, y_train)\r\n",
    "            validation_loss.append(Loss(x_val @ w, y_val))\r\n",
    "        # average over all losses and store\r\n",
    "        validation_loss = np.mean(validation_loss)\r\n",
    "\r\n",
    "        # check if smaller\r\n",
    "        if validation_loss < min_loss:\r\n",
    "            min_loss = validation_loss\r\n",
    "            min_mask = [m]\r\n",
    "        elif validation_loss == min_loss:\r\n",
    "            min_mask.append(m)\r\n",
    "\r\n",
    "    # find the ones with the least amount of features\r\n",
    "    feature_size = list(map(lambda x: np.sum(x), min_mask))\r\n",
    "    min_index = np.where(feature_size == np.min(feature_size))[0]\r\n",
    "    return np.array(min_mask)[min_index], min_loss"
   ]
  },
  {
   "cell_type": "code",
   "execution_count": 6,
   "metadata": {},
   "outputs": [
    {
     "name": "stderr",
     "output_type": "stream",
     "text": [
      "100%|██████████| 32767/32767 [00:20<00:00, 1637.99it/s]\n"
     ]
    }
   ],
   "source": [
    "mask, min_loss =  CrossValidation(X_train, Y_train)"
   ]
  },
  {
   "cell_type": "code",
   "execution_count": 7,
   "metadata": {},
   "outputs": [
    {
     "name": "stdout",
     "output_type": "stream",
     "text": [
      "One min feature mask is/subset: [False False False  True False False False False  True  True False False\n",
      " False False False]\n",
      "The associated training loss is 0.2\n",
      "One min feature mask is/subset: [False False False  True False False False False False  True  True False\n",
      " False False False]\n",
      "The associated training loss is 0.2\n"
     ]
    }
   ],
   "source": [
    "# train on full set\r\n",
    "weights = []\r\n",
    "for m in mask:\r\n",
    "    print(f\"One min feature mask is/subset: {m}\")\r\n",
    "    w, x_pred = train(X_train[:, m], Y_train)\r\n",
    "    weights.append(w)\r\n",
    "    print(f\"The associated training loss is {Loss(x_pred, Y_train)}\")"
   ]
  },
  {
   "cell_type": "code",
   "execution_count": 8,
   "metadata": {},
   "outputs": [
    {
     "name": "stdout",
     "output_type": "stream",
     "text": [
      "One min feature mask/subset is: [False False False  True False False False False  True  True False False\n",
      " False False False]\n",
      "The associated test loss is 0.497\n",
      "One min feature mask/subset is: [False False False  True False False False False False  True  True False\n",
      " False False False]\n",
      "The associated test loss is 0.502\n"
     ]
    }
   ],
   "source": [
    "# testing on new data\r\n",
    "for m, w in zip(mask, weights):\r\n",
    "    print(f\"One min feature mask/subset is: {m}\")\r\n",
    "    print(f\"The associated test loss is {Loss(X_test[:, m] @ w, Y_test)}\")"
   ]
  },
  {
   "cell_type": "markdown",
   "metadata": {},
   "source": [
    "The error on the test set significantly is higher than on the training set. This can have several reasons:\r\n",
    "- Overfitting to the training set (unlikely with small amout of features but for example more features in truth relate to the classification than the training set suggests)\r\n",
    "- The training set and the test set come from different distributions and just don't belong together.\r\n",
    "- The labels are independent of the features, and we were just \"lucky\" that these features explained the training set well.\r\n",
    "\r\n"
   ]
  },
  {
   "cell_type": "markdown",
   "metadata": {},
   "source": [
    "The difference probably has to do with the classifier, because we could get a small error just with a subset of features. However if the labels are independent of features, then both the classifier and feature selection are not the porblem but rather the prediction task."
   ]
  },
  {
   "cell_type": "markdown",
   "metadata": {},
   "source": [
    "We would probably tell the biologists that they should look back at their dataset and make sure the data was generated correctly and the model is reasonable to solve the task."
   ]
  },
  {
   "cell_type": "markdown",
   "metadata": {},
   "source": [
    "## Exercise 15"
   ]
  },
  {
   "cell_type": "code",
   "execution_count": 9,
   "metadata": {},
   "outputs": [],
   "source": [
    "def Permutation_Test(X, y, alpha=0.05, n_samples=1000):\r\n",
    "    t_pis = []\r\n",
    "    # the baseline error is given as:\r\n",
    "    _, T = CrossValidation(X, y, use_tqdm=False)\r\n",
    "    print(f\"The Cross Validation error of the Baseline is {T}\\n\")\r\n",
    "\r\n",
    "    for i in tqdm(range(n_samples)):\r\n",
    "        random_permutation = np.random.permutation(y.shape[0])\r\n",
    "        y_perm = y[random_permutation]\r\n",
    "        _, T_pi = CrossValidation(X, y_perm, use_tqdm=False)\r\n",
    "        t_pis.append(T_pi)\r\n",
    "\r\n",
    "    t_pis = np.array(t_pis)\r\n",
    "    p = np.sum(t_pis <= T)/t_pis.shape[0]\r\n",
    "    print(f\"\\nThe result of th permutation test is that X and Y are {'in' if p > alpha else ''}dependent.\")\r\n",
    "    print(\"The p value is: \", p)\r\n",
    "    print(f\"The mean cross validation error is: {np.mean(t_pis)}\")\r\n",
    "    return t_pis\r\n"
   ]
  },
  {
   "cell_type": "markdown",
   "metadata": {},
   "source": [
    "We measure the cross validation error of the base classifier: 0.493. If Y is dependent on the X, this would mean that a permuted assignment of Y would lead to a worse error. Therefore we reject the test if more than $1 - \\alpha$ percent of the permuted losses lie above 0.493."
   ]
  },
  {
   "cell_type": "code",
   "execution_count": 10,
   "metadata": {},
   "outputs": [
    {
     "name": "stdout",
     "output_type": "stream",
     "text": [
      "The Cross Validation error of the Baseline is 0.493\n",
      "\n"
     ]
    },
    {
     "name": "stderr",
     "output_type": "stream",
     "text": [
      "100%|██████████| 1000/1000 [00:54<00:00, 18.32it/s]"
     ]
    },
    {
     "name": "stdout",
     "output_type": "stream",
     "text": [
      "\n",
      "The result of th permutation test is that X and Y are independent.\n",
      "The p value is:  0.986\n",
      "The mean cross validation error is: 0.46929200000000004\n"
     ]
    },
    {
     "name": "stderr",
     "output_type": "stream",
     "text": [
      "\n"
     ]
    }
   ],
   "source": [
    "X_new = X_test[:, :6]\r\n",
    "result = Permutation_Test(X_new, Y_test)"
   ]
  },
  {
   "cell_type": "markdown",
   "metadata": {},
   "source": [
    "The results of the test imply that indeed the labels are independent of the features. This implies for 14. that the features we learned we just randomly good for the training dataset, but captured no underlying structure of the actual data generating process."
   ]
  },
  {
   "cell_type": "code",
   "execution_count": 16,
   "metadata": {},
   "outputs": [
    {
     "data": {
      "image/png": "[encoded data removed]",
      "text/plain": [
       "<Figure size 432x288 with 1 Axes>"
      ]
     },
     "metadata": {
      "needs_background": "light"
     },
     "output_type": "display_data"
    }
   ],
   "source": [
    "from matplotlib import pyplot as plt\r\n",
    "bins = np.linspace(0.4, 0.55, 50)\r\n",
    "plt.hist(result, bins=bins);"
   ]
  }
 ],
 "metadata": {
  "interpreter": {
   "hash": "4b5be0c7d8816b0411dd8381c01b6ac4b538687487d40264816f7c3f94b5666c"
  },
  "kernelspec": {
   "display_name": "Python 3.7.9 64-bit ('base': conda)",
   "name": "python3"
  },
  "language_info": {
   "codemirror_mode": {
    "name": "ipython",
    "version": 3
   },
   "file_extension": ".py",
   "mimetype": "text/x-python",
   "name": "python",
   "nbconvert_exporter": "python",
   "pygments_lexer": "ipython3",
   "version": "3.7.9"
  },
  "orig_nbformat": 4
 },
 "nbformat": 4,
 "nbformat_minor": 2
}