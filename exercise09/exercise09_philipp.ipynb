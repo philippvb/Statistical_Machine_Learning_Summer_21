{
 "cells": [
  {
   "cell_type": "markdown",
   "metadata": {},
   "source": [
    "# Statistical Machine Learning Exercise Sheet 9\r\n",
    "- Laura Haege\r\n",
    "- Philipp Noel von Bachmann, Matrikelnummer: 4116220"
   ]
  },
  {
   "cell_type": "markdown",
   "metadata": {},
   "source": [
    "## Exercise 16\r\n",
    "### (a)\r\n",
    "First we compute the derivative of the loss with respect to $a$ and $c$.\r\n",
    "\\begin{align*}\r\n",
    "  \\frac{\\partial}{\\partial c} L(f)\r\n",
    "  & = \\frac{\\partial}{\\partial c} \\sum_{i=1}^n \\gamma_i (Y_i - f(X_i))^2 \\\\\r\n",
    "  & = \\sum_{i=1}^n \\gamma_i \\frac{\\partial}{\\partial c} (Y_i - f(X_i))^2 \\\\\r\n",
    "  & = \\sum_{i=1}^n \\gamma_i 2 (Y_i - f(X_i)) \\frac{\\partial}{\\partial c} (Y_i - f(X_i))\\\\\r\n",
    "  & = \\sum_{i=1}^n -\\gamma_i 2 (Y_i - f(X_i))\\\\\r\n",
    "\\end{align*}\r\n",
    "\r\n",
    "\\begin{align*}\r\n",
    "  \\frac{\\partial}{\\partial a} L(f)\r\n",
    "  & = \\frac{\\partial}{\\partial a} \\sum_{i=1}^n \\gamma_i (Y_i - f(X_i))^2 \\\\\r\n",
    "  & = \\sum_{i=1}^n \\gamma_i \\frac{\\partial}{\\partial a} (Y_i - f(X_i))^2 \\\\\r\n",
    "  & = \\sum_{i=1}^n \\gamma_i 2 (Y_i - f(X_i)) \\frac{\\partial}{\\partial a} (Y_i - f(X_i))\\\\\r\n",
    "  & = \\sum_{i=1}^n -\\gamma_i 2 (Y_i - f(X_i)) \\mathbb{1}_{\\langle w, X_i\\rangle +b>0}\\\\\r\n",
    "\\end{align*}\r\n",
    "\r\n",
    "Now we can set the gradient to 0 and solve both equations for a:\r\n",
    "\r\n",
    "\r\n",
    "\\begin{align*}\r\n",
    "  0 & = \\sum_{i=1}^n \\gamma_i 2 (Y_i - f(X_i)) \\mathbb{1}_{\\langle w, X_i\\rangle +b>0}\\\\\r\n",
    "  \\Leftrightarrow a &= \\frac{\\sum_{i=1}^n   \\gamma_i  (Y_i-c)}{\\sum_{i=1}^n   \\gamma_i  \\mathbb{1}_{\\langle w, X_i\\rangle +b>0}} \\\\\r\n",
    "\\end{align*}\r\n",
    "\r\n",
    "and \r\n",
    "\\begin{align*}\r\n",
    "  0 &= \\sum_{i=1}^n -\\gamma_i 2 (Y_i - f(X_i)) \\mathbb{1}_{\\langle w, X_i\\rangle +b>0}\\\\\r\n",
    "  \\Leftrightarrow a &= \\frac{\\sum_{i=1}^n   \\gamma_i \\mathbb{1}_{\\langle w, X_i\\rangle +b>0} (Y_i-c)}{\\sum_{i=1}^n   \\gamma_i  \\mathbb{1}_{\\langle w, X_i\\rangle +b>0}}\r\n",
    "\\end{align*}\r\n",
    "\r\n",
    "Now set a equal and solve for c:\r\n",
    "\\begin{align*}\r\n",
    "    \\frac{\\sum_{i=1}^n   \\gamma_i  (Y_i+c)}{\\sum_{i=1}^n   \\gamma_i  \\mathbb{1}_{\\langle w, X_i\\rangle +b>0}}\r\n",
    "    &= \\frac{\\sum_{i=1}^n   \\gamma_i \\mathbb{1}_{\\langle w, X_i\\rangle +b>0} (Y_i+c)}{\\sum_{i=1}^n   \\gamma_i  \\mathbb{1}_{\\langle w, X_i\\rangle +b>0}}\\\\\r\n",
    "    \\implies \\sum_{i=1}^n   \\gamma_i  (Y_i+c)\r\n",
    "    &= \\sum_{i=1}^n   \\gamma_i \\mathbb{1}_{\\langle w, X_i\\rangle +b>0} (Y_i+c)\\\\\r\n",
    "    \\implies c &= \\frac{\\sum_{i=1}^n   \\gamma_i Y_i (1 - \\mathbb{1}_{\\langle w, X_i\\rangle +b>0})}\r\n",
    "    {\\sum_{i=1}^n   \\gamma_i(1 - \\mathbb{1}_{\\langle w, X_i\\rangle +b>0})}\r\n",
    "\\end{align*}\r\n"
   ]
  },
  {
   "cell_type": "markdown",
   "metadata": {},
   "source": [
    "### (b)"
   ]
  },
  {
   "cell_type": "code",
   "execution_count": 1,
   "metadata": {},
   "outputs": [],
   "source": [
    "import numpy as np\n",
    "from tqdm import tqdm\n",
    "\n",
    "def FitStump(X, Y, w, gamma):\n",
    "    # first sort everything so we can use cumsum, and set b values\n",
    "    # Note: we would have to add small epsilon to b values to make prediction >0, but we can also just use >=0 without epsilon,\n",
    "    # then we have to make no assumption how far datapoints lie away from each other\n",
    "    prediction = X @ w\n",
    "    sorting = np.flip(np.argsort(prediction))\n",
    "    b = - prediction[sorting]\n",
    "    b = np.append(b[0]+ np.sign(b[0]) * 1, b)\n",
    "    gamma_sorted = gamma[sorting]\n",
    "    Y_sorted = Y[sorting]\n",
    "\n",
    "    # now compute a and c for all values of b\n",
    "    c_upper =  np.sum(gamma_sorted * Y_sorted) - np.append(0, np.cumsum(gamma_sorted * Y_sorted))\n",
    "    c_lower = np.sum(gamma_sorted) - np.append(0, np.cumsum(gamma_sorted))\n",
    "    c = c_upper / np.maximum(c_lower, 1e-5)\n",
    "    a = np.sum(gamma * (Y - c.T), axis=0) / np.maximum(np.append(0, np.cumsum(gamma_sorted)), 1e-5)\n",
    "\n",
    "    # compute the resulting errors and take the smallest one\n",
    "    errors = np.linalg.norm(gamma_sorted * (Y_sorted - (np.add.outer(prediction[sorting] , b.T) >= 0) * a.T + c.T), axis=0)\n",
    "    min_index = np.argmin(errors)\n",
    "    return a[min_index], b[min_index], c[min_index], errors[min_index]\n"
   ]
  },
  {
   "cell_type": "markdown",
   "metadata": {},
   "source": [
    "### (c)"
   ]
  },
  {
   "cell_type": "code",
   "execution_count": 2,
   "metadata": {},
   "outputs": [],
   "source": [
    "def GentleBoost(X, Y, k):\n",
    "    dim = X.shape[1]\n",
    "    # init gamma uniformly, prediction with zeros\n",
    "    gamma = np.ones((X.shape[0], 1))/X.shape[0]\n",
    "    predictions = np.zeros_like(Y, dtype=float)\n",
    "    a_s = np.zeros(k)\n",
    "    b_s = np.zeros(k)\n",
    "    c_s = np.zeros(k)\n",
    "    w_s = np.zeros((dim, k))\n",
    "    training_errors = []\n",
    "    for episode in tqdm(range(k)):\n",
    "        # choose random w and calculate a,b,c\n",
    "        w = np.random.randn(dim)\n",
    "        w = w/np.linalg.norm(w)\n",
    "        a,b,c,error = FitStump(X, Y, w, gamma)\n",
    "        a_s[episode] = a\n",
    "        b_s[episode] = b\n",
    "        c_s[episode] = c\n",
    "        w_s[:, episode] = w\n",
    "        current_prediction =  a *(((X @ w) + b) >= 0) + c\n",
    "        # recalculate gamma for next episode\n",
    "        gamma = gamma * np.expand_dims(np.exp(- np.squeeze(Y) * current_prediction), axis=1)\n",
    "        gamma = gamma/np.sum(gamma)\n",
    "        # calculate combined prediction and print their error\n",
    "        predictions += np.expand_dims(current_prediction, axis=1)\n",
    "        current_training_error = np.linalg.norm(gamma * (Y - predictions/(episode+1)))\n",
    "        training_errors.append(current_training_error)\n",
    "        if (episode % 100) ==0:\n",
    "            print(f\"The training error is:{current_training_error}\")\n",
    "\n",
    "    return w_s, a_s, b_s, c_s, training_errors"
   ]
  },
  {
   "cell_type": "markdown",
   "metadata": {},
   "source": [
    "### (d)"
   ]
  },
  {
   "cell_type": "code",
   "execution_count": 3,
   "metadata": {},
   "outputs": [],
   "source": [
    "data = np.load(\"USPS_data.npy\", allow_pickle=True).item()\n",
    "X_train = data[\"Xtrain\"]\n",
    "Y_train = data[\"Ytrain\"]\n",
    "X_train = X_train[np.where(Y_train < 2)[0], :]\n",
    "Y_train = Y_train[np.where(Y_train < 2)[0]]\n",
    "X_test = data[\"Xtest\"]\n",
    "Y_test = data[\"Ytest\"]\n",
    "X_test = X_test[np.where(Y_train < 2)[0], :]\n",
    "Y_test = Y_test[np.where(Y_train < 2)[0]]"
   ]
  },
  {
   "cell_type": "code",
   "execution_count": 4,
   "metadata": {},
   "outputs": [
    {
     "name": "stderr",
     "output_type": "stream",
     "text": [
      "  1%|          | 7/1000 [00:00<00:34, 28.87it/s]"
     ]
    },
    {
     "name": "stdout",
     "output_type": "stream",
     "text": [
      "The training error is:0.030399633413629733\n"
     ]
    },
    {
     "name": "stderr",
     "output_type": "stream",
     "text": [
      " 10%|█         | 105/1000 [00:03<00:31, 28.67it/s]"
     ]
    },
    {
     "name": "stdout",
     "output_type": "stream",
     "text": [
      "The training error is:0.00030098646944210297\n"
     ]
    },
    {
     "name": "stderr",
     "output_type": "stream",
     "text": [
      " 21%|██        | 207/1000 [00:06<00:17, 45.53it/s]"
     ]
    },
    {
     "name": "stdout",
     "output_type": "stream",
     "text": [
      "The training error is:0.00015124195728188623\n"
     ]
    },
    {
     "name": "stderr",
     "output_type": "stream",
     "text": [
      " 31%|███       | 307/1000 [00:08<00:15, 44.47it/s]"
     ]
    },
    {
     "name": "stdout",
     "output_type": "stream",
     "text": [
      "The training error is:0.00010099545984604252\n"
     ]
    },
    {
     "name": "stderr",
     "output_type": "stream",
     "text": [
      " 41%|████      | 407/1000 [00:10<00:13, 42.81it/s]"
     ]
    },
    {
     "name": "stdout",
     "output_type": "stream",
     "text": [
      "The training error is:7.580955963505505e-05\n"
     ]
    },
    {
     "name": "stderr",
     "output_type": "stream",
     "text": [
      " 50%|█████     | 505/1000 [00:13<00:11, 43.63it/s]"
     ]
    },
    {
     "name": "stdout",
     "output_type": "stream",
     "text": [
      "The training error is:6.0677911005302833e-05\n"
     ]
    },
    {
     "name": "stderr",
     "output_type": "stream",
     "text": [
      " 60%|██████    | 605/1000 [00:15<00:09, 43.63it/s]"
     ]
    },
    {
     "name": "stdout",
     "output_type": "stream",
     "text": [
      "The training error is:5.058175276814892e-05\n"
     ]
    },
    {
     "name": "stderr",
     "output_type": "stream",
     "text": [
      " 71%|███████   | 710/1000 [00:18<00:06, 43.17it/s]"
     ]
    },
    {
     "name": "stdout",
     "output_type": "stream",
     "text": [
      "The training error is:4.336609616784288e-05\n"
     ]
    },
    {
     "name": "stderr",
     "output_type": "stream",
     "text": [
      " 81%|████████  | 807/1000 [00:20<00:04, 41.89it/s]"
     ]
    },
    {
     "name": "stdout",
     "output_type": "stream",
     "text": [
      "The training error is:3.795210164002435e-05\n"
     ]
    },
    {
     "name": "stderr",
     "output_type": "stream",
     "text": [
      " 91%|█████████ | 908/1000 [00:22<00:02, 45.59it/s]"
     ]
    },
    {
     "name": "stdout",
     "output_type": "stream",
     "text": [
      "The training error is:3.373988170217523e-05\n"
     ]
    },
    {
     "name": "stderr",
     "output_type": "stream",
     "text": [
      "100%|██████████| 1000/1000 [00:25<00:00, 39.69it/s]\n"
     ]
    }
   ],
   "source": [
    "w, a, b, c, training_errors = GentleBoost(X_train, Y_train, 1000)"
   ]
  },
  {
   "cell_type": "code",
   "execution_count": 5,
   "metadata": {},
   "outputs": [],
   "source": [
    "def compute_test_errors(X, Y, w, a, b, c):\r\n",
    "    predictions = a *(((X @ w) + b) >= 0) + c\r\n",
    "    predictions = np.cumsum(predictions, axis=0)/np.arange(1, predictions.shape[1] + 1, 1).T\r\n",
    "    test_errors = np.linalg.norm(Y - predictions, axis=0)\r\n",
    "    return test_errors"
   ]
  },
  {
   "cell_type": "code",
   "execution_count": 6,
   "metadata": {},
   "outputs": [],
   "source": [
    "test_errors = compute_test_errors(X_test, Y_test, w, a, b, c)"
   ]
  },
  {
   "cell_type": "code",
   "execution_count": 7,
   "metadata": {},
   "outputs": [
    {
     "data": {
      "image/png": "[encoded data removed]",
      "text/plain": [
       "<Figure size 1440x360 with 2 Axes>"
      ]
     },
     "metadata": {
      "needs_background": "light"
     },
     "output_type": "display_data"
    }
   ],
   "source": [
    "from matplotlib import pyplot as plt\r\n",
    "fig, (ax1, ax2) = plt.subplots(1, 2, figsize=(20,5))\r\n",
    "ax1.plot(training_errors)\r\n",
    "ax1.set_title(\"Training error\")\r\n",
    "ax1.set_yscale(\"log\")\r\n",
    "ax2.plot(test_errors)\r\n",
    "ax2.set_yscale(\"log\")\r\n",
    "ax2.set_title(\"Test error\");"
   ]
  },
  {
   "cell_type": "markdown",
   "metadata": {},
   "source": [
    "We can see that the test error only increases moderatly again which means the generalization error only increases moderatly while still improving the training error."
   ]
  },
  {
   "cell_type": "markdown",
   "metadata": {},
   "source": [
    "### (e)"
   ]
  },
  {
   "cell_type": "code",
   "execution_count": 8,
   "metadata": {},
   "outputs": [],
   "source": [
    "data = np.load(\"USPS_data.npy\", allow_pickle=True).item()\r\n",
    "prediction_class = 1\r\n",
    "X_train = data[\"Xtrain\"]\r\n",
    "Y_train = data[\"Ytrain\"]\r\n",
    "Y_train[np.where(Y_train != prediction_class)[0]] = 0\r\n",
    "X_test = data[\"Xtest\"]\r\n",
    "Y_test = data[\"Ytest\"]\r\n",
    "Y_test[np.where(Y_test != prediction_class)[0]] = 0"
   ]
  },
  {
   "cell_type": "code",
   "execution_count": 9,
   "metadata": {},
   "outputs": [
    {
     "name": "stderr",
     "output_type": "stream",
     "text": [
      "  0%|          | 2/1000 [00:00<03:02,  5.47it/s]"
     ]
    },
    {
     "name": "stdout",
     "output_type": "stream",
     "text": [
      "The training error is:0.0464860117107709\n"
     ]
    },
    {
     "name": "stderr",
     "output_type": "stream",
     "text": [
      " 10%|█         | 102/1000 [00:16<02:17,  6.54it/s]"
     ]
    },
    {
     "name": "stdout",
     "output_type": "stream",
     "text": [
      "The training error is:0.00046025754169097994\n"
     ]
    },
    {
     "name": "stderr",
     "output_type": "stream",
     "text": [
      " 20%|██        | 202/1000 [00:32<02:08,  6.23it/s]"
     ]
    },
    {
     "name": "stdout",
     "output_type": "stream",
     "text": [
      "The training error is:0.0002312736901034793\n"
     ]
    },
    {
     "name": "stderr",
     "output_type": "stream",
     "text": [
      " 30%|███       | 302/1000 [00:47<01:46,  6.55it/s]"
     ]
    },
    {
     "name": "stdout",
     "output_type": "stream",
     "text": [
      "The training error is:0.00015443857711228934\n"
     ]
    },
    {
     "name": "stderr",
     "output_type": "stream",
     "text": [
      " 40%|████      | 402/1000 [01:06<02:02,  4.89it/s]"
     ]
    },
    {
     "name": "stdout",
     "output_type": "stream",
     "text": [
      "The training error is:0.00011592521623640656\n"
     ]
    },
    {
     "name": "stderr",
     "output_type": "stream",
     "text": [
      " 50%|█████     | 502/1000 [01:26<01:47,  4.64it/s]"
     ]
    },
    {
     "name": "stdout",
     "output_type": "stream",
     "text": [
      "The training error is:9.278645052055533e-05\n"
     ]
    },
    {
     "name": "stderr",
     "output_type": "stream",
     "text": [
      " 60%|██████    | 601/1000 [01:48<01:19,  5.03it/s]"
     ]
    },
    {
     "name": "stdout",
     "output_type": "stream",
     "text": [
      "The training error is:7.734777322928993e-05\n"
     ]
    },
    {
     "name": "stderr",
     "output_type": "stream",
     "text": [
      " 70%|███████   | 702/1000 [02:09<01:00,  4.89it/s]"
     ]
    },
    {
     "name": "stdout",
     "output_type": "stream",
     "text": [
      "The training error is:6.631385408103062e-05\n"
     ]
    },
    {
     "name": "stderr",
     "output_type": "stream",
     "text": [
      " 80%|████████  | 802/1000 [02:33<00:45,  4.35it/s]"
     ]
    },
    {
     "name": "stdout",
     "output_type": "stream",
     "text": [
      "The training error is:5.803497092485048e-05\n"
     ]
    },
    {
     "name": "stderr",
     "output_type": "stream",
     "text": [
      " 90%|█████████ | 901/1000 [03:00<00:23,  4.17it/s]"
     ]
    },
    {
     "name": "stdout",
     "output_type": "stream",
     "text": [
      "The training error is:5.159379768124634e-05\n"
     ]
    },
    {
     "name": "stderr",
     "output_type": "stream",
     "text": [
      "100%|██████████| 1000/1000 [03:20<00:00,  4.98it/s]\n"
     ]
    }
   ],
   "source": [
    "w, a, b, c, training_errors = GentleBoost(X_train, Y_train, 1000)"
   ]
  },
  {
   "cell_type": "code",
   "execution_count": 10,
   "metadata": {},
   "outputs": [],
   "source": [
    "test_errors = compute_test_errors(X_test, Y_test, w, a, b, c)"
   ]
  },
  {
   "cell_type": "code",
   "execution_count": 12,
   "metadata": {},
   "outputs": [
    {
     "data": {
      "image/png": "[encoded data removed]",
      "text/plain": [
       "<Figure size 1440x360 with 2 Axes>"
      ]
     },
     "metadata": {
      "needs_background": "light"
     },
     "output_type": "display_data"
    }
   ],
   "source": [
    "from matplotlib import pyplot as plt\r\n",
    "fig, (ax1, ax2) = plt.subplots(1, 2, figsize=(20,5))\r\n",
    "ax1.plot(training_errors)\r\n",
    "ax1.set_title(\"Training error\")\r\n",
    "ax1.set_yscale(\"log\")\r\n",
    "ax2.plot(test_errors)\r\n",
    "ax2.set_yscale(\"log\")\r\n",
    "ax2.set_title(\"Test error\");"
   ]
  },
  {
   "cell_type": "markdown",
   "metadata": {},
   "source": [
    "## Exercise 17\n",
    "### (a)\n",
    "We can rewrite $P(X_{n+1} < X_1) = P(X_1 - X_{n+1} > 0)$ and we can write\n",
    "$X_1 - X_{n+1} = A \\begin{pmatrix}X_1\\\\ X_{n+1}\\end{pmatrix} =\n",
    "\\begin{pmatrix}1 & -1\\end{pmatrix} \\begin{pmatrix}X_1\\\\\n",
    "X_{n+1}\\end{pmatrix}$.\n",
    "\n",
    "We know that $\\begin{pmatrix}X_1\\\\\n",
    "X_{n+1}\\end{pmatrix} \\sim \\mathcal{N}(\\begin{pmatrix}0 \\\\\n",
    "\\mu\\end{pmatrix}), \\sigma^2 I) \\implies A\n",
    "\\begin{pmatrix}X_1\\\\X_{n+1}\\end{pmatrix} = X_1 - X_{n+1} \\sim N(\\mu, 2 \\sigma^2)$\n",
    "\n",
    "Now it follows that \n",
    "\\begin{align}\n",
    "    P(X_1 - X_{n+1} > 0)\n",
    "    & = \\int_0^{\\infty} \\mathcal{N}(x,\\mu, 2\\sigma^2) dx\\\\\n",
    "    & = \\int_0^{\\infty} \\frac{1}{\\sqrt{2 \\pi 2 \\sigma^2}} exp(-\\frac{(x- \\mu)^2}{2 2 \\sigma^2})\\\\\n",
    "    & = \\int_0^{\\infty} \\frac{1}{2 \\sqrt{\\pi} \\sigma} exp(-\\frac{(x- \\mu)^2}{4 \\sigma^2})\\\\\n",
    "    & = \\int_0^{\\infty} \\frac{1}{2 \\sqrt{\\pi} \\sigma} exp(-\\frac{(x- \\mu)^2}{(2\\sigma)^2})\\\\\n",
    "    & = \\frac{1}{2 \\sqrt{\\pi} \\sigma} \\int_0^{\\infty}  exp(-(\\frac{(x- \\mu)}{(2\\sigma)})^2)\\\\\n",
    "\\end{align}\n",
    "\n",
    "### (b)\n",
    "\\begin{align}\n",
    "    P(\\max_i X_i < X_{n+1}) \n",
    "    &= P(\\bigcap_i X_i < X_{n+1})\\\\\n",
    "    &= 1 - P(\\overline{\\bigcap_i X_i < X_{n+1}})\\\\\n",
    "    &= 1 - P(\\bigcup_i X_{n+1} > X_i) \\\\\n",
    "    &\\geq 1 - \\sum_i P(X_{n+1} > X_i) \\\\\n",
    "    &= 1 - n P(X_{n+1} \\leq X_1)\n",
    "\\end{align}\n",
    "Where the last step follows from the $X_i$ beeing iid. Technically, the\n",
    "couter-event of $X_i < X_n$ is $X_n \\leq X_i$ but since $P(X_i = X_n)$ is a\n",
    "single point and thus has probability 0 in an continuous space, we can drop\n",
    "the equal."
   ]
  }
 ],
 "metadata": {
  "interpreter": {
   "hash": "4b5be0c7d8816b0411dd8381c01b6ac4b538687487d40264816f7c3f94b5666c"
  },
  "kernelspec": {
   "display_name": "Python 3.7.9 64-bit ('base': conda)",
   "name": "python3"
  },
  "language_info": {
   "name": "python",
   "version": ""
  }
 },
 "nbformat": 4,
 "nbformat_minor": 2
}