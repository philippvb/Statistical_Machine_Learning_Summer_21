{
 "metadata": {
  "language_info": {
   "codemirror_mode": {
    "name": "ipython",
    "version": 3
   },
   "file_extension": ".py",
   "mimetype": "text/x-python",
   "name": "python",
   "nbconvert_exporter": "python",
   "pygments_lexer": "ipython3",
   "version": "3.7.9"
  },
  "orig_nbformat": 4,
  "kernelspec": {
   "name": "python3",
   "display_name": "Python 3.7.9 64-bit ('base': conda)"
  },
  "interpreter": {
   "hash": "4b5be0c7d8816b0411dd8381c01b6ac4b538687487d40264816f7c3f94b5666c"
  }
 },
 "nbformat": 4,
 "nbformat_minor": 2,
 "cells": [
  {
   "source": [
    "$\\phi _m (x) = \\sqrt \\frac{d!}{\\prod m_i!} \\prod x_i^{m_i} $"
   ],
   "cell_type": "markdown",
   "metadata": {}
  },
  {
   "source": [
    "b)"
   ],
   "cell_type": "markdown",
   "metadata": {}
  },
  {
   "source": [
    "assume a Loss function $\\sum\\limits_{i=1}^{n} L(y_i, \\phi (x_i)) + \\lambda \\vert \\vert \\phi \\vert \\vert_ {H}^2$ minimized by $\\phi^*(x) = \\sum\\limits_{i=1}^{n} \\alpha_i K(x,x_i) \\\\ $ equivalent (due to representer theorem) to: $\\sum\\limits_{i=1}^{n} L(y_i, \\alpha_i K) + \\lambda \\sum\\limits_{j,i=1}^{n} \\alpha_i \\alpha_j K \\\\ $ for $L_2$ - Loss there exists a unique solution: $ \\alpha^* = (K + \\lambda I)^{-^1} y  $ With $ \\\\ \\Omega = R^d$ we get $K(x,y) = (1 + \\sum\\limits_{i=1}^{n} x_i y_i) ^d = (1 + \\sum\\limits_{i=0}^{n-1} x_i y_i)^d \\\\ \n",
    "= {d \\choose k} 1^{d-k} * \\sum\\limits_{i=0}^{n-1} x_i y_i^d $\n",
    "\n",
    "Therefore the dimension of $H$ is $  (d + n-1) \\choose d $"
   ],
   "cell_type": "markdown",
   "metadata": {}
  },
  {
   "source": [
    "c)"
   ],
   "cell_type": "markdown",
   "metadata": {}
  },
  {
   "source": [
    "$x, y \\in R^{16x16} \\\\ $\n",
    "1. Solution (lower bound?): $\\mu_i = \\frac{5}{n} \\\\\n",
    "\\phi_m(x) = \\sqrt{\\frac{2*3*4*5}{\\sum_{i=1}^{n} (5/n) !}} \\sum_{i=1}^{n} x_i^{\\frac{5}{n}} \\\\ $\n",
    "2. Solution (upper bound?): $ \\exists i: \\mu_i = 5, \\forall j \\in \\{1, \\dots , n\\} \\setminus i \\\\\n",
    "\\phi_m(x) = \\sqrt{\\frac{120}{(n-1)* 120}} (n-1) * x_i^5 = x_i^5\\\\ $ "
   ],
   "cell_type": "markdown",
   "metadata": {}
  },
  {
   "source": [
    "Input dimension: 16x16 = 256 (Pixel), Output dimension: \n",
    "(Problem might be d=5 does not represent input well?)\n",
    "Problem: upper bound only contains of zeros except in one entry in $N^n$"
   ],
   "cell_type": "markdown",
   "metadata": {}
  },
  {
   "cell_type": "code",
   "execution_count": 2,
   "metadata": {},
   "outputs": [],
   "source": [
    "from matplotlib import pyplot as plt\n",
    "import numpy as np\n",
    "from scipy.spatial.distance import cdist"
   ]
  },
  {
   "cell_type": "code",
   "execution_count": 3,
   "metadata": {},
   "outputs": [],
   "source": [
    "data = np.load(\"diabetes_data.npy\", allow_pickle=True).item()\n",
    "X_train = data[\"Xtrain\"]\n",
    "Y_train = data[\"Ytrain\"]\n",
    "X_test = data[\"Xtest\"]\n",
    "Y_test = data[\"Ytest\"]"
   ]
  },
  {
   "cell_type": "code",
   "execution_count": null,
   "metadata": {},
   "outputs": [],
   "source": []
  }
 ]
}