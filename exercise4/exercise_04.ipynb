{
 "metadata": {
  "language_info": {
   "codemirror_mode": {
    "name": "ipython",
    "version": 3
   },
   "file_extension": ".py",
   "mimetype": "text/x-python",
   "name": "python",
   "nbconvert_exporter": "python",
   "pygments_lexer": "ipython3",
   "version": "3.7.9"
  },
  "orig_nbformat": 2,
  "kernelspec": {
   "name": "python379jvsc74a57bd04b5be0c7d8816b0411dd8381c01b6ac4b538687487d40264816f7c3f94b5666c",
   "display_name": "Python 3.7.9 64-bit ('base': conda)"
  }
 },
 "nbformat": 4,
 "nbformat_minor": 2,
 "cells": [
  {
   "source": [
    "# Statistical Machine Learning Exercise Sheet 4\n",
    "- Laura Haege\n",
    "- Philipp Noel von Bachmann, Matrikelnummer: 4116220"
   ],
   "cell_type": "markdown",
   "metadata": {}
  },
  {
   "source": [
    "## Exercise 7"
   ],
   "cell_type": "markdown",
   "metadata": {}
  },
  {
   "source": [
    "### (a)"
   ],
   "cell_type": "markdown",
   "metadata": {}
  },
  {
   "source": [
    "1.\n",
    "Suppose there exist $y_1, y_2$ such that $P_C (x) = \\{ y_1, y_2\\}$ with $\\Vert x-y_1\\Vert_2^2=\\Vert x-y_2\\Vert_2^2 = a$. Now construct $y* = p \\cdot y_1 + (1-p) \\cdot y_2 \\in P_C(x)$\n",
    "\\begin{align*}\n",
    "    & \\Vert x -  p \\cdot y_1 + (1-p) \\cdot y_2 \\Vert_2^2 \\\\\n",
    "    & = \\Vert p \\cdot x + (1-p) \\cdot x - ( p \\cdot y_1 + (1-p) \\cdot y_2) \\Vert_2^2 \\\\\n",
    "    & = \\Vert p \\cdot x - p \\cdot y_1 +(1-p) \\cdot x  - (1-p) \\cdot y_2 \\Vert_2^2 \\\\\n",
    "    & \\leq \\Vert p \\cdot x - p \\cdot y_1\\Vert_2^2 + \\Vert (1-p) \\cdot x  - (1-p) \\cdot y_2 \\Vert_2^2 \\\\\n",
    "    & = p^2 \\cdot \\Vert  x - y_1\\Vert_2^2 + (1-p)^2 \\cdot \\Vert  x  - y_2 \\Vert_2^2 \\\\\n",
    "    & < p \\cdot \\Vert  x - y_1\\Vert_2^2 + (1-p) \\cdot \\Vert  x  - y_2 \\Vert_2^2 \\\\\n",
    "    & = p \\cdot a + (1-p) \\cdot a \\\\\n",
    "    &= a\n",
    "\\end{align*}\n",
    "Therefore the distance to $y*$ is smaller than to $y_1, y_2$ and they can not be the minimum. Therefore the minimum has to be unique\n",
    "\n",
    "2.\n",
    "As we measure the distance in $L_2$, the distance within one component doesn't affect the distance within the other, and we can optimize each component seperatly. If $x_i<0$, then the closest point in $C$ is given by 0. Otherwise, we can just stay at $x_i$, which is the trivial minimal distance. This leads to $P_C(X)_i = max(x_i, 0)$. In total we get $P_C(X) = max(x, 0)$, where max is the element wise max."
   ],
   "cell_type": "markdown",
   "metadata": {}
  },
  {
   "source": [
    "# (b)"
   ],
   "cell_type": "markdown",
   "metadata": {}
  },
  {
   "source": [
    "1."
   ],
   "cell_type": "markdown",
   "metadata": {}
  },
  {
   "cell_type": "code",
   "execution_count": 1,
   "metadata": {},
   "outputs": [],
   "source": [
    "from sys import prefix\n",
    "import numpy as np\n",
    "import matplotlib.pyplot as plt\n",
    "\n",
    "\n",
    "def LassoObjective(wplus, wminus, Phi, Y, lmbd):\n",
    "    ''' evaluates the objective function at (wplus, wminus)\n",
    "    L2 loss + L1 regularization\n",
    "    '''\n",
    "    w = wplus - wminus\n",
    "    return ((Phi @ w - Y) ** 2).mean(\n",
    "        ) + lmbd * np.abs(w).sum()\n",
    "\n",
    "\n",
    "def GradLassoObjective(wplus, wminus, Phi, Y, lmbd):\n",
    "    ''' computes the gradients of the objective function\n",
    "    at (wplus, wminus)\n",
    "    gradwplus: gradient wrt wplus\n",
    "    gradwminus: gradient wrt minus\n",
    "\n",
    "    FILL IN\n",
    "    '''\n",
    "    prediction_loss = 2* (Y - Phi @ wplus + Phi @ wminus)\n",
    "    gradwplus =  np.expand_dims(- np.sum(np.multiply(prediction_loss, Phi), axis=0) / Phi.shape[0] + lmbd, axis=1)\n",
    "    gradwminus =   np.expand_dims(np.sum(np.multiply(prediction_loss, Phi), axis=0) / Phi.shape[0] + lmbd, axis=1)\n",
    "    return gradwplus, gradwminus\n",
    "\n",
    "\n",
    "def ProjectionPositiveOrthant(x):\n",
    "    ''' returns the projection of x onto the positive orthant\n",
    "\n",
    "    FILL IN\n",
    "    '''\n",
    "    return np.maximum(0, x)\n",
    "\n",
    "\n",
    "def getStepSize(wplus, wminus, Phi, Y, lmbd, gradwplus,\n",
    "                gradwminus, loss):\n",
    "    ''' performs one step of projected gradient descent (i.e.\n",
    "    compute next iterate) with step size selection via\n",
    "    backtracking line search\n",
    "\n",
    "    input\n",
    "    loss: objective function at current iterate (wplus, wminus)\n",
    "\n",
    "    output\n",
    "    wplusnew, wminusnew: next iterates wplus_{t+1}, wminus_{t+1}\n",
    "    lossnew: objective function at the new iterate\n",
    "    \n",
    "    FILL IN\n",
    "    '''\n",
    "    alpha, beta, sigma = 1., .1, .1\n",
    "    wplusnew, wminusnew = wplus.copy(), wminus.copy()\n",
    "    lossnew = np.float('Inf') # make sure to enter the loop\n",
    "\n",
    "    # choose the step size alpha with backtracking line search\n",
    "    while lossnew > loss + sigma * ((gradwplus * (\n",
    "        wplusnew - wplus)).sum() + (gradwminus * (\n",
    "        wminusnew - wminus)).sum()):\n",
    "        # get new step size to test\n",
    "        alpha *= beta\n",
    "\n",
    "        # projected gradient step for wplus and wminus with step size alpha\n",
    "        # i.e. compute x_{t+1} as in the text\n",
    "        # FILL IN\n",
    "        # print('fill in with projected gradient step')\n",
    "        wplusnew = ProjectionPositiveOrthant(wplus - alpha * gradwplus)\n",
    "        wminusnew = ProjectionPositiveOrthant(wminus - alpha * gradwminus)\n",
    "\n",
    "        # compute new value of the objective\n",
    "        lossnew = LassoObjective(wplusnew, wminusnew, Phi, Y, lmbd)\n",
    "\n",
    "    return wplusnew, wminusnew, lossnew\n",
    "\n",
    "\n",
    "def Lasso(Phi, Y, lmbd):\n",
    "    ''' compute weight of linear regression with Lasso\n",
    "\n",
    "    Phi: deisgn matrix n x d\n",
    "    Y: true values n x 1\n",
    "    lmbd: weight of regularization\n",
    "\n",
    "    output: weights of linear regression d x 1\n",
    "    '''\n",
    "    # initialize wplus, wminus\n",
    "    wplus = np.random.rand(Phi.shape[1], 1)\n",
    "    wminus = np.random.rand(*wplus.shape)\n",
    "    loss = LassoObjective(wplus, wminus, Phi, Y, lmbd)\n",
    "\n",
    "    counter = 1\n",
    "    while counter > 0:\n",
    "        # compute gradients wrt wplus and wminus\n",
    "        gradwplus, gradwminus = GradLassoObjective(\n",
    "            wplus, wminus, Phi, Y, lmbd)\n",
    "\n",
    "        # compute new iterates\n",
    "        wplus, wminus, loss = getStepSize(wplus,\n",
    "            wminus, Phi, Y, lmbd, gradwplus, gradwminus, loss)\n",
    "\n",
    "        if (counter % 100) == 0:\n",
    "            # check if stopping criterion is met\n",
    "            wnew = wplus - wminus\n",
    "            ind = wnew != 0.\n",
    "            indz = wnew == 0.\n",
    "            r = 2 / Phi.shape[0] * (Phi.T @ (Phi @ wnew - Y))\n",
    "            stop = np.abs(r[ind] + lmbd * np.sign(wnew[ind]\n",
    "                )).sum() + (np.abs(r[indz]) - lmbd * np.ones_like(\n",
    "                r[indz])).clip(0.).sum()\n",
    "            print('iter={} current objective={:.3f} nonzero weights={}'.format(\n",
    "                counter, loss, ind.sum()) +\\\n",
    "                ' stop={:.5f}'.format(stop / Phi.shape[0]))\n",
    "            if np.abs(stop) / Phi.shape[0] < 1e-5:\n",
    "                break\n",
    "        counter += 1\n",
    "\n",
    "    return wplus - wminus\n",
    "\n"
   ]
  },
  {
   "source": [
    "2."
   ],
   "cell_type": "markdown",
   "metadata": {}
  },
  {
   "cell_type": "code",
   "execution_count": 2,
   "metadata": {},
   "outputs": [],
   "source": [
    "# load data\n",
    "data = np.load(\"multidim_data_trainval.npy\", allow_pickle=True).item()\n",
    "x_train = data[\"Xtrain\"]\n",
    "y_train = data[\"Ytrain\"]\n",
    "x_val = data[\"Xval\"]\n",
    "y_val = data[\"Yval\"]\n",
    "\n",
    "# normalize\n",
    "x_train -= np.mean(x_train, axis=0)\n",
    "x_train /= np.std(x_train, axis=0)\n",
    "x_val -= np.mean(x_val, axis=0)\n",
    "x_val /= np.std(x_val, axis=0)\n",
    "\n",
    "\n",
    "# add one vector for offset\n",
    "x_train = np.hstack((np.ones((x_train.shape[0], 1)), x_train))\n",
    "x_val = np.hstack((np.ones((x_val.shape[0], 1)), x_val))"
   ]
  },
  {
   "cell_type": "code",
   "execution_count": 3,
   "metadata": {},
   "outputs": [
    {
     "output_type": "stream",
     "name": "stdout",
     "text": [
      "iter=100 current objective=139277.680 nonzero weights=63 stop=0.11879\n",
      "iter=200 current objective=138925.125 nonzero weights=45 stop=0.03480\n",
      "iter=300 current objective=138832.709 nonzero weights=44 stop=0.00569\n",
      "iter=400 current objective=138786.650 nonzero weights=43 stop=0.00400\n",
      "iter=500 current objective=138758.119 nonzero weights=43 stop=0.00305\n",
      "iter=600 current objective=138738.583 nonzero weights=42 stop=0.00240\n",
      "iter=700 current objective=138724.429 nonzero weights=42 stop=0.00194\n",
      "iter=800 current objective=138716.244 nonzero weights=41 stop=0.00125\n",
      "iter=900 current objective=138714.441 nonzero weights=41 stop=0.00078\n",
      "iter=1000 current objective=138713.814 nonzero weights=40 stop=0.00048\n",
      "iter=1100 current objective=138713.589 nonzero weights=40 stop=0.00030\n",
      "iter=1200 current objective=138713.506 nonzero weights=40 stop=0.00018\n",
      "iter=1300 current objective=138713.476 nonzero weights=40 stop=0.00011\n",
      "iter=1400 current objective=138713.464 nonzero weights=40 stop=0.00007\n",
      "iter=1500 current objective=138713.460 nonzero weights=40 stop=0.00004\n",
      "iter=1600 current objective=138713.458 nonzero weights=40 stop=0.00003\n",
      "iter=1700 current objective=138713.458 nonzero weights=40 stop=0.00002\n",
      "iter=1800 current objective=138713.457 nonzero weights=40 stop=0.00001\n",
      "iter=1900 current objective=138713.457 nonzero weights=40 stop=0.00001\n"
     ]
    }
   ],
   "source": [
    "lmbd = 10\n",
    "\n",
    "w = Lasso(x_train, y_train, lmbd=lmbd)\n",
    "y_train_predict = x_train @ w\n",
    "y_val_predict = x_val @ w\n",
    "train_loss = np.linalg.norm(y_train - y_train_predict)**2/x_train.shape[0]\n",
    "test_loss = np.linalg.norm(y_val - y_val_predict)**2/x_val.shape[0]\n"
   ]
  },
  {
   "source": [
    "i."
   ],
   "cell_type": "markdown",
   "metadata": {}
  },
  {
   "cell_type": "code",
   "execution_count": 4,
   "metadata": {},
   "outputs": [
    {
     "output_type": "stream",
     "name": "stdout",
     "text": [
      "The training loss is 121332.09617441503 and the test loss is 141717.19168760636\n"
     ]
    }
   ],
   "source": [
    "print(f\"The training loss is {train_loss} and the test loss is {test_loss}\")"
   ]
  },
  {
   "source": [
    "ii."
   ],
   "cell_type": "markdown",
   "metadata": {}
  },
  {
   "cell_type": "code",
   "execution_count": 5,
   "metadata": {},
   "outputs": [
    {
     "output_type": "execute_result",
     "data": {
      "text/plain": [
       "[<matplotlib.lines.Line2D at 0x1d693d40708>]"
      ]
     },
     "metadata": {},
     "execution_count": 5
    },
    {
     "output_type": "display_data",
     "data": {
      "text/plain": "<Figure size 432x288 with 1 Axes>",
      "image/svg+xml": "<?xml version=\"1.0\" encoding=\"utf-8\" standalone=\"no\"?>\r\n<!DOCTYPE svg PUBLIC \"-//W3C//DTD SVG 1.1//EN\"\r\n  \"http://www.w3.org/Graphics/SVG/1.1/DTD/svg11.dtd\">\r\n<!-- Created with matplotlib (https://matplotlib.org/) -->\r\n<svg height=\"248.518125pt\" version=\"1.1\" viewBox=\"0 0 381.65 248.518125\" width=\"381.65pt\" xmlns=\"http://www.w3.org/2000/svg\" xmlns:xlink=\"http://www.w3.org/1999/xlink\">\r\n <metadata>\r\n  <rdf:RDF xmlns:cc=\"http://creativecommons.org/ns#\" xmlns:dc=\"http://purl.org/dc/elements/1.1/\" xmlns:rdf=\"http://www.w3.org/1999/02/22-rdf-syntax-ns#\">\r\n   <cc:Work>\r\n    <dc:type rdf:resource=\"http://purl.org/dc/dcmitype/StillImage\"/>\r\n    <dc:date>2021-06-03T17:31:36.249346</dc:date>\r\n    <dc:format>image/svg+xml</dc:format>\r\n    <dc:creator>\r\n     <cc:Agent>\r\n      <dc:title>Matplotlib v3.3.2, https://matplotlib.org/</dc:title>\r\n     </cc:Agent>\r\n    </dc:creator>\r\n   </cc:Work>\r\n  </rdf:RDF>\r\n </metadata>\r\n <defs>\r\n  <style type=\"text/css\">*{stroke-linecap:butt;stroke-linejoin:round;}</style>\r\n </defs>\r\n <g id=\"figure_1\">\r\n  <g id=\"patch_1\">\r\n   <path d=\"M -0 248.518125 \r\nL 381.65 248.518125 \r\nL 381.65 0 \r\nL -0 0 \r\nz\r\n\" style=\"fill:none;\"/>\r\n  </g>\r\n  <g id=\"axes_1\">\r\n   <g id=\"patch_2\">\r\n    <path d=\"M 39.65 224.64 \r\nL 374.45 224.64 \r\nL 374.45 7.2 \r\nL 39.65 7.2 \r\nz\r\n\" style=\"fill:#ffffff;\"/>\r\n   </g>\r\n   <g id=\"PathCollection_1\">\r\n    <defs>\r\n     <path d=\"M 0 3 \r\nC 0.795609 3 1.55874 2.683901 2.12132 2.12132 \r\nC 2.683901 1.55874 3 0.795609 3 0 \r\nC 3 -0.795609 2.683901 -1.55874 2.12132 -2.12132 \r\nC 1.55874 -2.683901 0.795609 -3 0 -3 \r\nC -0.795609 -3 -1.55874 -2.683901 -2.12132 -2.12132 \r\nC -2.683901 -1.55874 -3 -0.795609 -3 0 \r\nC -3 0.795609 -2.683901 1.55874 -2.12132 2.12132 \r\nC -1.55874 2.683901 -0.795609 3 0 3 \r\nz\r\n\" id=\"md0fc9448d9\" style=\"stroke:#1f77b4;\"/>\r\n    </defs>\r\n    <g clip-path=\"url(#pc08e6fa3e7)\">\r\n     <use style=\"fill:#1f77b4;stroke:#1f77b4;\" x=\"102.283775\" xlink:href=\"#md0fc9448d9\" y=\"200.237525\"/>\r\n     <use style=\"fill:#1f77b4;stroke:#1f77b4;\" x=\"130.374104\" xlink:href=\"#md0fc9448d9\" y=\"171.247086\"/>\r\n     <use style=\"fill:#1f77b4;stroke:#1f77b4;\" x=\"150.087128\" xlink:href=\"#md0fc9448d9\" y=\"166.316693\"/>\r\n     <use style=\"fill:#1f77b4;stroke:#1f77b4;\" x=\"91.216505\" xlink:href=\"#md0fc9448d9\" y=\"189.327228\"/>\r\n     <use style=\"fill:#1f77b4;stroke:#1f77b4;\" x=\"91.558001\" xlink:href=\"#md0fc9448d9\" y=\"175.807972\"/>\r\n     <use style=\"fill:#1f77b4;stroke:#1f77b4;\" x=\"58.601506\" xlink:href=\"#md0fc9448d9\" y=\"203.644149\"/>\r\n     <use style=\"fill:#1f77b4;stroke:#1f77b4;\" x=\"67.497447\" xlink:href=\"#md0fc9448d9\" y=\"199.572518\"/>\r\n     <use style=\"fill:#1f77b4;stroke:#1f77b4;\" x=\"75.973974\" xlink:href=\"#md0fc9448d9\" y=\"193.890959\"/>\r\n     <use style=\"fill:#1f77b4;stroke:#1f77b4;\" x=\"89.323972\" xlink:href=\"#md0fc9448d9\" y=\"178.028813\"/>\r\n     <use style=\"fill:#1f77b4;stroke:#1f77b4;\" x=\"114.97513\" xlink:href=\"#md0fc9448d9\" y=\"146.776628\"/>\r\n     <use style=\"fill:#1f77b4;stroke:#1f77b4;\" x=\"114.402927\" xlink:href=\"#md0fc9448d9\" y=\"195.348953\"/>\r\n     <use style=\"fill:#1f77b4;stroke:#1f77b4;\" x=\"72.118904\" xlink:href=\"#md0fc9448d9\" y=\"203.543819\"/>\r\n     <use style=\"fill:#1f77b4;stroke:#1f77b4;\" x=\"110.381674\" xlink:href=\"#md0fc9448d9\" y=\"196.297028\"/>\r\n     <use style=\"fill:#1f77b4;stroke:#1f77b4;\" x=\"188.376073\" xlink:href=\"#md0fc9448d9\" y=\"170.926439\"/>\r\n     <use style=\"fill:#1f77b4;stroke:#1f77b4;\" x=\"92.100377\" xlink:href=\"#md0fc9448d9\" y=\"188.720329\"/>\r\n     <use style=\"fill:#1f77b4;stroke:#1f77b4;\" x=\"66.689057\" xlink:href=\"#md0fc9448d9\" y=\"205.177732\"/>\r\n     <use style=\"fill:#1f77b4;stroke:#1f77b4;\" x=\"72.188908\" xlink:href=\"#md0fc9448d9\" y=\"195.835867\"/>\r\n     <use style=\"fill:#1f77b4;stroke:#1f77b4;\" x=\"86.336947\" xlink:href=\"#md0fc9448d9\" y=\"169.26317\"/>\r\n     <use style=\"fill:#1f77b4;stroke:#1f77b4;\" x=\"88.931951\" xlink:href=\"#md0fc9448d9\" y=\"179.584535\"/>\r\n     <use style=\"fill:#1f77b4;stroke:#1f77b4;\" x=\"62.350049\" xlink:href=\"#md0fc9448d9\" y=\"208.562218\"/>\r\n     <use style=\"fill:#1f77b4;stroke:#1f77b4;\" x=\"111.992975\" xlink:href=\"#md0fc9448d9\" y=\"170.779031\"/>\r\n     <use style=\"fill:#1f77b4;stroke:#1f77b4;\" x=\"59.328327\" xlink:href=\"#md0fc9448d9\" y=\"209.341374\"/>\r\n     <use style=\"fill:#1f77b4;stroke:#1f77b4;\" x=\"58.999005\" xlink:href=\"#md0fc9448d9\" y=\"206.179742\"/>\r\n     <use style=\"fill:#1f77b4;stroke:#1f77b4;\" x=\"153.928197\" xlink:href=\"#md0fc9448d9\" y=\"159.918136\"/>\r\n     <use style=\"fill:#1f77b4;stroke:#1f77b4;\" x=\"58.215573\" xlink:href=\"#md0fc9448d9\" y=\"205.732784\"/>\r\n     <use style=\"fill:#1f77b4;stroke:#1f77b4;\" x=\"201.861817\" xlink:href=\"#md0fc9448d9\" y=\"127.920412\"/>\r\n     <use style=\"fill:#1f77b4;stroke:#1f77b4;\" x=\"67.668499\" xlink:href=\"#md0fc9448d9\" y=\"205.234999\"/>\r\n     <use style=\"fill:#1f77b4;stroke:#1f77b4;\" x=\"63.261922\" xlink:href=\"#md0fc9448d9\" y=\"212.662001\"/>\r\n     <use style=\"fill:#1f77b4;stroke:#1f77b4;\" x=\"134.247436\" xlink:href=\"#md0fc9448d9\" y=\"151.327448\"/>\r\n     <use style=\"fill:#1f77b4;stroke:#1f77b4;\" x=\"113.16234\" xlink:href=\"#md0fc9448d9\" y=\"193.864086\"/>\r\n     <use style=\"fill:#1f77b4;stroke:#1f77b4;\" x=\"73.481236\" xlink:href=\"#md0fc9448d9\" y=\"194.746551\"/>\r\n     <use style=\"fill:#1f77b4;stroke:#1f77b4;\" x=\"71.743319\" xlink:href=\"#md0fc9448d9\" y=\"193.788143\"/>\r\n     <use style=\"fill:#1f77b4;stroke:#1f77b4;\" x=\"61.877068\" xlink:href=\"#md0fc9448d9\" y=\"205.777003\"/>\r\n     <use style=\"fill:#1f77b4;stroke:#1f77b4;\" x=\"82.06429\" xlink:href=\"#md0fc9448d9\" y=\"173.908125\"/>\r\n     <use style=\"fill:#1f77b4;stroke:#1f77b4;\" x=\"65.423513\" xlink:href=\"#md0fc9448d9\" y=\"204.159771\"/>\r\n     <use style=\"fill:#1f77b4;stroke:#1f77b4;\" x=\"129.784856\" xlink:href=\"#md0fc9448d9\" y=\"172.898573\"/>\r\n     <use style=\"fill:#1f77b4;stroke:#1f77b4;\" x=\"67.516926\" xlink:href=\"#md0fc9448d9\" y=\"193.780185\"/>\r\n     <use style=\"fill:#1f77b4;stroke:#1f77b4;\" x=\"77.563361\" xlink:href=\"#md0fc9448d9\" y=\"203.237486\"/>\r\n     <use style=\"fill:#1f77b4;stroke:#1f77b4;\" x=\"76.834105\" xlink:href=\"#md0fc9448d9\" y=\"210.293283\"/>\r\n     <use style=\"fill:#1f77b4;stroke:#1f77b4;\" x=\"64.053876\" xlink:href=\"#md0fc9448d9\" y=\"203.096033\"/>\r\n     <use style=\"fill:#1f77b4;stroke:#1f77b4;\" x=\"100.891007\" xlink:href=\"#md0fc9448d9\" y=\"182.612839\"/>\r\n     <use style=\"fill:#1f77b4;stroke:#1f77b4;\" x=\"80.569865\" xlink:href=\"#md0fc9448d9\" y=\"193.598762\"/>\r\n     <use style=\"fill:#1f77b4;stroke:#1f77b4;\" x=\"58.266706\" xlink:href=\"#md0fc9448d9\" y=\"208.806463\"/>\r\n     <use style=\"fill:#1f77b4;stroke:#1f77b4;\" x=\"58.588723\" xlink:href=\"#md0fc9448d9\" y=\"214.756364\"/>\r\n     <use style=\"fill:#1f77b4;stroke:#1f77b4;\" x=\"67.530927\" xlink:href=\"#md0fc9448d9\" y=\"204.340366\"/>\r\n     <use style=\"fill:#1f77b4;stroke:#1f77b4;\" x=\"71.631313\" xlink:href=\"#md0fc9448d9\" y=\"190.097754\"/>\r\n     <use style=\"fill:#1f77b4;stroke:#1f77b4;\" x=\"134.49397\" xlink:href=\"#md0fc9448d9\" y=\"156.276344\"/>\r\n     <use style=\"fill:#1f77b4;stroke:#1f77b4;\" x=\"65.433861\" xlink:href=\"#md0fc9448d9\" y=\"198.975952\"/>\r\n     <use style=\"fill:#1f77b4;stroke:#1f77b4;\" x=\"77.280911\" xlink:href=\"#md0fc9448d9\" y=\"205.994455\"/>\r\n     <use style=\"fill:#1f77b4;stroke:#1f77b4;\" x=\"91.240245\" xlink:href=\"#md0fc9448d9\" y=\"193.727355\"/>\r\n     <use style=\"fill:#1f77b4;stroke:#1f77b4;\" x=\"77.82694\" xlink:href=\"#md0fc9448d9\" y=\"185.666079\"/>\r\n     <use style=\"fill:#1f77b4;stroke:#1f77b4;\" x=\"61.379129\" xlink:href=\"#md0fc9448d9\" y=\"205.738462\"/>\r\n     <use style=\"fill:#1f77b4;stroke:#1f77b4;\" x=\"69.436243\" xlink:href=\"#md0fc9448d9\" y=\"194.171502\"/>\r\n     <use style=\"fill:#1f77b4;stroke:#1f77b4;\" x=\"68.598634\" xlink:href=\"#md0fc9448d9\" y=\"202.069719\"/>\r\n     <use style=\"fill:#1f77b4;stroke:#1f77b4;\" x=\"59.104315\" xlink:href=\"#md0fc9448d9\" y=\"203.301354\"/>\r\n     <use style=\"fill:#1f77b4;stroke:#1f77b4;\" x=\"96.888017\" xlink:href=\"#md0fc9448d9\" y=\"173.94963\"/>\r\n     <use style=\"fill:#1f77b4;stroke:#1f77b4;\" x=\"75.533864\" xlink:href=\"#md0fc9448d9\" y=\"192.527273\"/>\r\n     <use style=\"fill:#1f77b4;stroke:#1f77b4;\" x=\"147.238893\" xlink:href=\"#md0fc9448d9\" y=\"168.597486\"/>\r\n     <use style=\"fill:#1f77b4;stroke:#1f77b4;\" x=\"70.749268\" xlink:href=\"#md0fc9448d9\" y=\"179.008925\"/>\r\n     <use style=\"fill:#1f77b4;stroke:#1f77b4;\" x=\"177.117663\" xlink:href=\"#md0fc9448d9\" y=\"180.38343\"/>\r\n     <use style=\"fill:#1f77b4;stroke:#1f77b4;\" x=\"95.79596\" xlink:href=\"#md0fc9448d9\" y=\"200.015244\"/>\r\n     <use style=\"fill:#1f77b4;stroke:#1f77b4;\" x=\"91.378426\" xlink:href=\"#md0fc9448d9\" y=\"175.426206\"/>\r\n     <use style=\"fill:#1f77b4;stroke:#1f77b4;\" x=\"59.809221\" xlink:href=\"#md0fc9448d9\" y=\"207.598258\"/>\r\n     <use style=\"fill:#1f77b4;stroke:#1f77b4;\" x=\"67.267348\" xlink:href=\"#md0fc9448d9\" y=\"194.413684\"/>\r\n     <use style=\"fill:#1f77b4;stroke:#1f77b4;\" x=\"72.8719\" xlink:href=\"#md0fc9448d9\" y=\"192.843266\"/>\r\n     <use style=\"fill:#1f77b4;stroke:#1f77b4;\" x=\"82.240821\" xlink:href=\"#md0fc9448d9\" y=\"152.690304\"/>\r\n     <use style=\"fill:#1f77b4;stroke:#1f77b4;\" x=\"65.768052\" xlink:href=\"#md0fc9448d9\" y=\"205.195042\"/>\r\n     <use style=\"fill:#1f77b4;stroke:#1f77b4;\" x=\"83.917256\" xlink:href=\"#md0fc9448d9\" y=\"201.554139\"/>\r\n     <use style=\"fill:#1f77b4;stroke:#1f77b4;\" x=\"93.641674\" xlink:href=\"#md0fc9448d9\" y=\"164.823827\"/>\r\n     <use style=\"fill:#1f77b4;stroke:#1f77b4;\" x=\"71.969157\" xlink:href=\"#md0fc9448d9\" y=\"194.692109\"/>\r\n     <use style=\"fill:#1f77b4;stroke:#1f77b4;\" x=\"63.163917\" xlink:href=\"#md0fc9448d9\" y=\"201.025306\"/>\r\n     <use style=\"fill:#1f77b4;stroke:#1f77b4;\" x=\"125.653424\" xlink:href=\"#md0fc9448d9\" y=\"150.950749\"/>\r\n     <use style=\"fill:#1f77b4;stroke:#1f77b4;\" x=\"64.735651\" xlink:href=\"#md0fc9448d9\" y=\"196.677155\"/>\r\n     <use style=\"fill:#1f77b4;stroke:#1f77b4;\" x=\"142.55778\" xlink:href=\"#md0fc9448d9\" y=\"160.30861\"/>\r\n     <use style=\"fill:#1f77b4;stroke:#1f77b4;\" x=\"125.056263\" xlink:href=\"#md0fc9448d9\" y=\"179.341828\"/>\r\n     <use style=\"fill:#1f77b4;stroke:#1f77b4;\" x=\"70.18376\" xlink:href=\"#md0fc9448d9\" y=\"190.573551\"/>\r\n     <use style=\"fill:#1f77b4;stroke:#1f77b4;\" x=\"84.067003\" xlink:href=\"#md0fc9448d9\" y=\"195.27209\"/>\r\n     <use style=\"fill:#1f77b4;stroke:#1f77b4;\" x=\"111.89497\" xlink:href=\"#md0fc9448d9\" y=\"158.635735\"/>\r\n     <use style=\"fill:#1f77b4;stroke:#1f77b4;\" x=\"72.019681\" xlink:href=\"#md0fc9448d9\" y=\"199.30249\"/>\r\n     <use style=\"fill:#1f77b4;stroke:#1f77b4;\" x=\"78.318183\" xlink:href=\"#md0fc9448d9\" y=\"167.925079\"/>\r\n     <use style=\"fill:#1f77b4;stroke:#1f77b4;\" x=\"62.458402\" xlink:href=\"#md0fc9448d9\" y=\"204.518364\"/>\r\n     <use style=\"fill:#1f77b4;stroke:#1f77b4;\" x=\"62.283089\" xlink:href=\"#md0fc9448d9\" y=\"196.639241\"/>\r\n     <use style=\"fill:#1f77b4;stroke:#1f77b4;\" x=\"72.801287\" xlink:href=\"#md0fc9448d9\" y=\"197.934775\"/>\r\n     <use style=\"fill:#1f77b4;stroke:#1f77b4;\" x=\"110.904571\" xlink:href=\"#md0fc9448d9\" y=\"179.339842\"/>\r\n     <use style=\"fill:#1f77b4;stroke:#1f77b4;\" x=\"81.238856\" xlink:href=\"#md0fc9448d9\" y=\"200.476921\"/>\r\n     <use style=\"fill:#1f77b4;stroke:#1f77b4;\" x=\"125.532896\" xlink:href=\"#md0fc9448d9\" y=\"173.283181\"/>\r\n     <use style=\"fill:#1f77b4;stroke:#1f77b4;\" x=\"63.476803\" xlink:href=\"#md0fc9448d9\" y=\"203.355187\"/>\r\n     <use style=\"fill:#1f77b4;stroke:#1f77b4;\" x=\"82.956076\" xlink:href=\"#md0fc9448d9\" y=\"184.966652\"/>\r\n     <use style=\"fill:#1f77b4;stroke:#1f77b4;\" x=\"127.867974\" xlink:href=\"#md0fc9448d9\" y=\"188.310246\"/>\r\n     <use style=\"fill:#1f77b4;stroke:#1f77b4;\" x=\"288.260305\" xlink:href=\"#md0fc9448d9\" y=\"150.406831\"/>\r\n     <use style=\"fill:#1f77b4;stroke:#1f77b4;\" x=\"183.307201\" xlink:href=\"#md0fc9448d9\" y=\"156.169196\"/>\r\n     <use style=\"fill:#1f77b4;stroke:#1f77b4;\" x=\"92.579445\" xlink:href=\"#md0fc9448d9\" y=\"176.774798\"/>\r\n     <use style=\"fill:#1f77b4;stroke:#1f77b4;\" x=\"75.038969\" xlink:href=\"#md0fc9448d9\" y=\"199.131562\"/>\r\n     <use style=\"fill:#1f77b4;stroke:#1f77b4;\" x=\"96.390687\" xlink:href=\"#md0fc9448d9\" y=\"204.70676\"/>\r\n     <use style=\"fill:#1f77b4;stroke:#1f77b4;\" x=\"86.375905\" xlink:href=\"#md0fc9448d9\" y=\"175.966979\"/>\r\n     <use style=\"fill:#1f77b4;stroke:#1f77b4;\" x=\"126.88914\" xlink:href=\"#md0fc9448d9\" y=\"166.284224\"/>\r\n     <use style=\"fill:#1f77b4;stroke:#1f77b4;\" x=\"59.509119\" xlink:href=\"#md0fc9448d9\" y=\"206.570311\"/>\r\n     <use style=\"fill:#1f77b4;stroke:#1f77b4;\" x=\"112.743536\" xlink:href=\"#md0fc9448d9\" y=\"186.076714\"/>\r\n     <use style=\"fill:#1f77b4;stroke:#1f77b4;\" x=\"63.040954\" xlink:href=\"#md0fc9448d9\" y=\"205.444243\"/>\r\n     <use style=\"fill:#1f77b4;stroke:#1f77b4;\" x=\"134.804421\" xlink:href=\"#md0fc9448d9\" y=\"146.252906\"/>\r\n     <use style=\"fill:#1f77b4;stroke:#1f77b4;\" x=\"59.0684\" xlink:href=\"#md0fc9448d9\" y=\"203.693276\"/>\r\n     <use style=\"fill:#1f77b4;stroke:#1f77b4;\" x=\"72.294217\" xlink:href=\"#md0fc9448d9\" y=\"191.249044\"/>\r\n     <use style=\"fill:#1f77b4;stroke:#1f77b4;\" x=\"80.877272\" xlink:href=\"#md0fc9448d9\" y=\"193.406223\"/>\r\n     <use style=\"fill:#1f77b4;stroke:#1f77b4;\" x=\"75.329332\" xlink:href=\"#md0fc9448d9\" y=\"201.777167\"/>\r\n     <use style=\"fill:#1f77b4;stroke:#1f77b4;\" x=\"63.454889\" xlink:href=\"#md0fc9448d9\" y=\"204.323662\"/>\r\n     <use style=\"fill:#1f77b4;stroke:#1f77b4;\" x=\"61.158161\" xlink:href=\"#md0fc9448d9\" y=\"210.824552\"/>\r\n     <use style=\"fill:#1f77b4;stroke:#1f77b4;\" x=\"91.741228\" xlink:href=\"#md0fc9448d9\" y=\"188.665497\"/>\r\n     <use style=\"fill:#1f77b4;stroke:#1f77b4;\" x=\"66.203901\" xlink:href=\"#md0fc9448d9\" y=\"202.52991\"/>\r\n     <use style=\"fill:#1f77b4;stroke:#1f77b4;\" x=\"252.04712\" xlink:href=\"#md0fc9448d9\" y=\"146.525813\"/>\r\n     <use style=\"fill:#1f77b4;stroke:#1f77b4;\" x=\"101.854623\" xlink:href=\"#md0fc9448d9\" y=\"180.96084\"/>\r\n     <use style=\"fill:#1f77b4;stroke:#1f77b4;\" x=\"59.136577\" xlink:href=\"#md0fc9448d9\" y=\"203.853443\"/>\r\n     <use style=\"fill:#1f77b4;stroke:#1f77b4;\" x=\"69.257277\" xlink:href=\"#md0fc9448d9\" y=\"197.694293\"/>\r\n     <use style=\"fill:#1f77b4;stroke:#1f77b4;\" x=\"110.224014\" xlink:href=\"#md0fc9448d9\" y=\"191.264448\"/>\r\n     <use style=\"fill:#1f77b4;stroke:#1f77b4;\" x=\"62.253261\" xlink:href=\"#md0fc9448d9\" y=\"207.43653\"/>\r\n     <use style=\"fill:#1f77b4;stroke:#1f77b4;\" x=\"68.78734\" xlink:href=\"#md0fc9448d9\" y=\"198.558762\"/>\r\n     <use style=\"fill:#1f77b4;stroke:#1f77b4;\" x=\"58.852911\" xlink:href=\"#md0fc9448d9\" y=\"212.638781\"/>\r\n     <use style=\"fill:#1f77b4;stroke:#1f77b4;\" x=\"83.362705\" xlink:href=\"#md0fc9448d9\" y=\"206.14651\"/>\r\n     <use style=\"fill:#1f77b4;stroke:#1f77b4;\" x=\"61.554442\" xlink:href=\"#md0fc9448d9\" y=\"206.804922\"/>\r\n     <use style=\"fill:#1f77b4;stroke:#1f77b4;\" x=\"58.498631\" xlink:href=\"#md0fc9448d9\" y=\"208.761047\"/>\r\n     <use style=\"fill:#1f77b4;stroke:#1f77b4;\" x=\"103.154255\" xlink:href=\"#md0fc9448d9\" y=\"176.462335\"/>\r\n     <use style=\"fill:#1f77b4;stroke:#1f77b4;\" x=\"61.659143\" xlink:href=\"#md0fc9448d9\" y=\"206.033203\"/>\r\n     <use style=\"fill:#1f77b4;stroke:#1f77b4;\" x=\"154.211255\" xlink:href=\"#md0fc9448d9\" y=\"159.060905\"/>\r\n     <use style=\"fill:#1f77b4;stroke:#1f77b4;\" x=\"59.954707\" xlink:href=\"#md0fc9448d9\" y=\"212.502846\"/>\r\n     <use style=\"fill:#1f77b4;stroke:#1f77b4;\" x=\"58.668466\" xlink:href=\"#md0fc9448d9\" y=\"210.888667\"/>\r\n     <use style=\"fill:#1f77b4;stroke:#1f77b4;\" x=\"109.672507\" xlink:href=\"#md0fc9448d9\" y=\"158.06267\"/>\r\n     <use style=\"fill:#1f77b4;stroke:#1f77b4;\" x=\"141.631906\" xlink:href=\"#md0fc9448d9\" y=\"183.325459\"/>\r\n     <use style=\"fill:#1f77b4;stroke:#1f77b4;\" x=\"57.810161\" xlink:href=\"#md0fc9448d9\" y=\"209.611411\"/>\r\n     <use style=\"fill:#1f77b4;stroke:#1f77b4;\" x=\"77.187776\" xlink:href=\"#md0fc9448d9\" y=\"202.929514\"/>\r\n     <use style=\"fill:#1f77b4;stroke:#1f77b4;\" x=\"67.436574\" xlink:href=\"#md0fc9448d9\" y=\"197.162733\"/>\r\n     <use style=\"fill:#1f77b4;stroke:#1f77b4;\" x=\"85.693522\" xlink:href=\"#md0fc9448d9\" y=\"187.192106\"/>\r\n     <use style=\"fill:#1f77b4;stroke:#1f77b4;\" x=\"95.873268\" xlink:href=\"#md0fc9448d9\" y=\"188.926476\"/>\r\n     <use style=\"fill:#1f77b4;stroke:#1f77b4;\" x=\"64.311977\" xlink:href=\"#md0fc9448d9\" y=\"207.529831\"/>\r\n     <use style=\"fill:#1f77b4;stroke:#1f77b4;\" x=\"61.495396\" xlink:href=\"#md0fc9448d9\" y=\"213.067424\"/>\r\n     <use style=\"fill:#1f77b4;stroke:#1f77b4;\" x=\"71.057284\" xlink:href=\"#md0fc9448d9\" y=\"193.887989\"/>\r\n     <use style=\"fill:#1f77b4;stroke:#1f77b4;\" x=\"154.501618\" xlink:href=\"#md0fc9448d9\" y=\"179.05199\"/>\r\n     <use style=\"fill:#1f77b4;stroke:#1f77b4;\" x=\"95.942055\" xlink:href=\"#md0fc9448d9\" y=\"202.252529\"/>\r\n     <use style=\"fill:#1f77b4;stroke:#1f77b4;\" x=\"108.372874\" xlink:href=\"#md0fc9448d9\" y=\"195.239286\"/>\r\n     <use style=\"fill:#1f77b4;stroke:#1f77b4;\" x=\"69.038744\" xlink:href=\"#md0fc9448d9\" y=\"196.29004\"/>\r\n     <use style=\"fill:#1f77b4;stroke:#1f77b4;\" x=\"132.830319\" xlink:href=\"#md0fc9448d9\" y=\"162.816576\"/>\r\n     <use style=\"fill:#1f77b4;stroke:#1f77b4;\" x=\"269.79639\" xlink:href=\"#md0fc9448d9\" y=\"106.069196\"/>\r\n     <use style=\"fill:#1f77b4;stroke:#1f77b4;\" x=\"71.718361\" xlink:href=\"#md0fc9448d9\" y=\"207.88116\"/>\r\n     <use style=\"fill:#1f77b4;stroke:#1f77b4;\" x=\"95.915271\" xlink:href=\"#md0fc9448d9\" y=\"193.042549\"/>\r\n     <use style=\"fill:#1f77b4;stroke:#1f77b4;\" x=\"55.405079\" xlink:href=\"#md0fc9448d9\" y=\"205.514628\"/>\r\n     <use style=\"fill:#1f77b4;stroke:#1f77b4;\" x=\"145.151567\" xlink:href=\"#md0fc9448d9\" y=\"178.287443\"/>\r\n     <use style=\"fill:#1f77b4;stroke:#1f77b4;\" x=\"82.288302\" xlink:href=\"#md0fc9448d9\" y=\"203.358926\"/>\r\n     <use style=\"fill:#1f77b4;stroke:#1f77b4;\" x=\"77.627277\" xlink:href=\"#md0fc9448d9\" y=\"203.426807\"/>\r\n     <use style=\"fill:#1f77b4;stroke:#1f77b4;\" x=\"60.745444\" xlink:href=\"#md0fc9448d9\" y=\"201.514366\"/>\r\n     <use style=\"fill:#1f77b4;stroke:#1f77b4;\" x=\"62.238043\" xlink:href=\"#md0fc9448d9\" y=\"206.22565\"/>\r\n     <use style=\"fill:#1f77b4;stroke:#1f77b4;\" x=\"76.532785\" xlink:href=\"#md0fc9448d9\" y=\"207.465279\"/>\r\n     <use style=\"fill:#1f77b4;stroke:#1f77b4;\" x=\"59.969925\" xlink:href=\"#md0fc9448d9\" y=\"213.521223\"/>\r\n     <use style=\"fill:#1f77b4;stroke:#1f77b4;\" x=\"61.796107\" xlink:href=\"#md0fc9448d9\" y=\"201.923336\"/>\r\n     <use style=\"fill:#1f77b4;stroke:#1f77b4;\" x=\"78.612807\" xlink:href=\"#md0fc9448d9\" y=\"190.154015\"/>\r\n     <use style=\"fill:#1f77b4;stroke:#1f77b4;\" x=\"76.475565\" xlink:href=\"#md0fc9448d9\" y=\"171.754224\"/>\r\n     <use style=\"fill:#1f77b4;stroke:#1f77b4;\" x=\"81.981503\" xlink:href=\"#md0fc9448d9\" y=\"188.957647\"/>\r\n     <use style=\"fill:#1f77b4;stroke:#1f77b4;\" x=\"96.941585\" xlink:href=\"#md0fc9448d9\" y=\"186.030336\"/>\r\n     <use style=\"fill:#1f77b4;stroke:#1f77b4;\" x=\"59.524337\" xlink:href=\"#md0fc9448d9\" y=\"207.622651\"/>\r\n     <use style=\"fill:#1f77b4;stroke:#1f77b4;\" x=\"60.052712\" xlink:href=\"#md0fc9448d9\" y=\"207.776827\"/>\r\n     <use style=\"fill:#1f77b4;stroke:#1f77b4;\" x=\"78.277398\" xlink:href=\"#md0fc9448d9\" y=\"186.414006\"/>\r\n     <use style=\"fill:#1f77b4;stroke:#1f77b4;\" x=\"106.165629\" xlink:href=\"#md0fc9448d9\" y=\"176.412442\"/>\r\n     <use style=\"fill:#1f77b4;stroke:#1f77b4;\" x=\"84.004913\" xlink:href=\"#md0fc9448d9\" y=\"188.61055\"/>\r\n     <use style=\"fill:#1f77b4;stroke:#1f77b4;\" x=\"76.888891\" xlink:href=\"#md0fc9448d9\" y=\"198.386421\"/>\r\n     <use style=\"fill:#1f77b4;stroke:#1f77b4;\" x=\"94.075697\" xlink:href=\"#md0fc9448d9\" y=\"179.925565\"/>\r\n     <use style=\"fill:#1f77b4;stroke:#1f77b4;\" x=\"77.344828\" xlink:href=\"#md0fc9448d9\" y=\"194.4085\"/>\r\n     <use style=\"fill:#1f77b4;stroke:#1f77b4;\" x=\"99.769123\" xlink:href=\"#md0fc9448d9\" y=\"174.295205\"/>\r\n     <use style=\"fill:#1f77b4;stroke:#1f77b4;\" x=\"129.895036\" xlink:href=\"#md0fc9448d9\" y=\"170.431467\"/>\r\n     <use style=\"fill:#1f77b4;stroke:#1f77b4;\" x=\"77.884769\" xlink:href=\"#md0fc9448d9\" y=\"199.122561\"/>\r\n     <use style=\"fill:#1f77b4;stroke:#1f77b4;\" x=\"60.426471\" xlink:href=\"#md0fc9448d9\" y=\"202.222299\"/>\r\n     <use style=\"fill:#1f77b4;stroke:#1f77b4;\" x=\"56.800891\" xlink:href=\"#md0fc9448d9\" y=\"208.212098\"/>\r\n     <use style=\"fill:#1f77b4;stroke:#1f77b4;\" x=\"169.567009\" xlink:href=\"#md0fc9448d9\" y=\"169.882149\"/>\r\n     <use style=\"fill:#1f77b4;stroke:#1f77b4;\" x=\"211.488231\" xlink:href=\"#md0fc9448d9\" y=\"150.752428\"/>\r\n     <use style=\"fill:#1f77b4;stroke:#1f77b4;\" x=\"80.13706\" xlink:href=\"#md0fc9448d9\" y=\"179.883119\"/>\r\n     <use style=\"fill:#1f77b4;stroke:#1f77b4;\" x=\"99.728947\" xlink:href=\"#md0fc9448d9\" y=\"187.138241\"/>\r\n     <use style=\"fill:#1f77b4;stroke:#1f77b4;\" x=\"59.549295\" xlink:href=\"#md0fc9448d9\" y=\"211.303745\"/>\r\n     <use style=\"fill:#1f77b4;stroke:#1f77b4;\" x=\"62.188736\" xlink:href=\"#md0fc9448d9\" y=\"195.648081\"/>\r\n     <use style=\"fill:#1f77b4;stroke:#1f77b4;\" x=\"80.472468\" xlink:href=\"#md0fc9448d9\" y=\"194.493475\"/>\r\n     <use style=\"fill:#1f77b4;stroke:#1f77b4;\" x=\"85.682565\" xlink:href=\"#md0fc9448d9\" y=\"190.86063\"/>\r\n     <use style=\"fill:#1f77b4;stroke:#1f77b4;\" x=\"79.141791\" xlink:href=\"#md0fc9448d9\" y=\"192.118993\"/>\r\n     <use style=\"fill:#1f77b4;stroke:#1f77b4;\" x=\"66.781583\" xlink:href=\"#md0fc9448d9\" y=\"208.556744\"/>\r\n     <use style=\"fill:#1f77b4;stroke:#1f77b4;\" x=\"71.357386\" xlink:href=\"#md0fc9448d9\" y=\"195.641315\"/>\r\n     <use style=\"fill:#1f77b4;stroke:#1f77b4;\" x=\"63.176092\" xlink:href=\"#md0fc9448d9\" y=\"202.9255\"/>\r\n     <use style=\"fill:#1f77b4;stroke:#1f77b4;\" x=\"65.693788\" xlink:href=\"#md0fc9448d9\" y=\"213.18518\"/>\r\n     <use style=\"fill:#1f77b4;stroke:#1f77b4;\" x=\"216.168735\" xlink:href=\"#md0fc9448d9\" y=\"143.152684\"/>\r\n     <use style=\"fill:#1f77b4;stroke:#1f77b4;\" x=\"154.322652\" xlink:href=\"#md0fc9448d9\" y=\"139.318539\"/>\r\n     <use style=\"fill:#1f77b4;stroke:#1f77b4;\" x=\"164.884071\" xlink:href=\"#md0fc9448d9\" y=\"183.549076\"/>\r\n     <use style=\"fill:#1f77b4;stroke:#1f77b4;\" x=\"57.720069\" xlink:href=\"#md0fc9448d9\" y=\"201.627554\"/>\r\n     <use style=\"fill:#1f77b4;stroke:#1f77b4;\" x=\"63.912043\" xlink:href=\"#md0fc9448d9\" y=\"202.626461\"/>\r\n     <use style=\"fill:#1f77b4;stroke:#1f77b4;\" x=\"85.361766\" xlink:href=\"#md0fc9448d9\" y=\"175.969901\"/>\r\n     <use style=\"fill:#1f77b4;stroke:#1f77b4;\" x=\"62.34944\" xlink:href=\"#md0fc9448d9\" y=\"202.109264\"/>\r\n     <use style=\"fill:#1f77b4;stroke:#1f77b4;\" x=\"85.863357\" xlink:href=\"#md0fc9448d9\" y=\"184.999133\"/>\r\n     <use style=\"fill:#1f77b4;stroke:#1f77b4;\" x=\"68.034344\" xlink:href=\"#md0fc9448d9\" y=\"206.627854\"/>\r\n     <use style=\"fill:#1f77b4;stroke:#1f77b4;\" x=\"114.865559\" xlink:href=\"#md0fc9448d9\" y=\"178.177768\"/>\r\n     <use style=\"fill:#1f77b4;stroke:#1f77b4;\" x=\"58.571679\" xlink:href=\"#md0fc9448d9\" y=\"201.464157\"/>\r\n     <use style=\"fill:#1f77b4;stroke:#1f77b4;\" x=\"85.614996\" xlink:href=\"#md0fc9448d9\" y=\"196.633315\"/>\r\n     <use style=\"fill:#1f77b4;stroke:#1f77b4;\" x=\"136.195972\" xlink:href=\"#md0fc9448d9\" y=\"159.811684\"/>\r\n     <use style=\"fill:#1f77b4;stroke:#1f77b4;\" x=\"114.180741\" xlink:href=\"#md0fc9448d9\" y=\"173.727096\"/>\r\n     <use style=\"fill:#1f77b4;stroke:#1f77b4;\" x=\"57.602585\" xlink:href=\"#md0fc9448d9\" y=\"206.129444\"/>\r\n     <use style=\"fill:#1f77b4;stroke:#1f77b4;\" x=\"87.410742\" xlink:href=\"#md0fc9448d9\" y=\"178.900236\"/>\r\n     <use style=\"fill:#1f77b4;stroke:#1f77b4;\" x=\"74.051613\" xlink:href=\"#md0fc9448d9\" y=\"189.991446\"/>\r\n     <use style=\"fill:#1f77b4;stroke:#1f77b4;\" x=\"62.294046\" xlink:href=\"#md0fc9448d9\" y=\"200.654954\"/>\r\n     <use style=\"fill:#1f77b4;stroke:#1f77b4;\" x=\"71.231988\" xlink:href=\"#md0fc9448d9\" y=\"197.700619\"/>\r\n    </g>\r\n   </g>\r\n   <g id=\"matplotlib.axis_1\">\r\n    <g id=\"xtick_1\">\r\n     <g id=\"line2d_1\">\r\n      <defs>\r\n       <path d=\"M 0 0 \r\nL 0 3.5 \r\n\" id=\"mf9bf265945\" style=\"stroke:#000000;stroke-width:0.8;\"/>\r\n      </defs>\r\n      <g>\r\n       <use style=\"stroke:#000000;stroke-width:0.8;\" x=\"54.868182\" xlink:href=\"#mf9bf265945\" y=\"224.64\"/>\r\n      </g>\r\n     </g>\r\n     <g id=\"text_1\">\r\n      <!-- 0 -->\r\n      <g transform=\"translate(51.686932 239.238437)scale(0.1 -0.1)\">\r\n       <defs>\r\n        <path d=\"M 31.78125 66.40625 \r\nQ 24.171875 66.40625 20.328125 58.90625 \r\nQ 16.5 51.421875 16.5 36.375 \r\nQ 16.5 21.390625 20.328125 13.890625 \r\nQ 24.171875 6.390625 31.78125 6.390625 \r\nQ 39.453125 6.390625 43.28125 13.890625 \r\nQ 47.125 21.390625 47.125 36.375 \r\nQ 47.125 51.421875 43.28125 58.90625 \r\nQ 39.453125 66.40625 31.78125 66.40625 \r\nz\r\nM 31.78125 74.21875 \r\nQ 44.046875 74.21875 50.515625 64.515625 \r\nQ 56.984375 54.828125 56.984375 36.375 \r\nQ 56.984375 17.96875 50.515625 8.265625 \r\nQ 44.046875 -1.421875 31.78125 -1.421875 \r\nQ 19.53125 -1.421875 13.0625 8.265625 \r\nQ 6.59375 17.96875 6.59375 36.375 \r\nQ 6.59375 54.828125 13.0625 64.515625 \r\nQ 19.53125 74.21875 31.78125 74.21875 \r\nz\r\n\" id=\"DejaVuSans-48\"/>\r\n       </defs>\r\n       <use xlink:href=\"#DejaVuSans-48\"/>\r\n      </g>\r\n     </g>\r\n    </g>\r\n    <g id=\"xtick_2\">\r\n     <g id=\"line2d_2\">\r\n      <g>\r\n       <use style=\"stroke:#000000;stroke-width:0.8;\" x=\"115.740909\" xlink:href=\"#mf9bf265945\" y=\"224.64\"/>\r\n      </g>\r\n     </g>\r\n     <g id=\"text_2\">\r\n      <!-- 1000 -->\r\n      <g transform=\"translate(103.015909 239.238437)scale(0.1 -0.1)\">\r\n       <defs>\r\n        <path d=\"M 12.40625 8.296875 \r\nL 28.515625 8.296875 \r\nL 28.515625 63.921875 \r\nL 10.984375 60.40625 \r\nL 10.984375 69.390625 \r\nL 28.421875 72.90625 \r\nL 38.28125 72.90625 \r\nL 38.28125 8.296875 \r\nL 54.390625 8.296875 \r\nL 54.390625 0 \r\nL 12.40625 0 \r\nz\r\n\" id=\"DejaVuSans-49\"/>\r\n       </defs>\r\n       <use xlink:href=\"#DejaVuSans-49\"/>\r\n       <use x=\"63.623047\" xlink:href=\"#DejaVuSans-48\"/>\r\n       <use x=\"127.246094\" xlink:href=\"#DejaVuSans-48\"/>\r\n       <use x=\"190.869141\" xlink:href=\"#DejaVuSans-48\"/>\r\n      </g>\r\n     </g>\r\n    </g>\r\n    <g id=\"xtick_3\">\r\n     <g id=\"line2d_3\">\r\n      <g>\r\n       <use style=\"stroke:#000000;stroke-width:0.8;\" x=\"176.613636\" xlink:href=\"#mf9bf265945\" y=\"224.64\"/>\r\n      </g>\r\n     </g>\r\n     <g id=\"text_3\">\r\n      <!-- 2000 -->\r\n      <g transform=\"translate(163.888636 239.238437)scale(0.1 -0.1)\">\r\n       <defs>\r\n        <path d=\"M 19.1875 8.296875 \r\nL 53.609375 8.296875 \r\nL 53.609375 0 \r\nL 7.328125 0 \r\nL 7.328125 8.296875 \r\nQ 12.9375 14.109375 22.625 23.890625 \r\nQ 32.328125 33.6875 34.8125 36.53125 \r\nQ 39.546875 41.84375 41.421875 45.53125 \r\nQ 43.3125 49.21875 43.3125 52.78125 \r\nQ 43.3125 58.59375 39.234375 62.25 \r\nQ 35.15625 65.921875 28.609375 65.921875 \r\nQ 23.96875 65.921875 18.8125 64.3125 \r\nQ 13.671875 62.703125 7.8125 59.421875 \r\nL 7.8125 69.390625 \r\nQ 13.765625 71.78125 18.9375 73 \r\nQ 24.125 74.21875 28.421875 74.21875 \r\nQ 39.75 74.21875 46.484375 68.546875 \r\nQ 53.21875 62.890625 53.21875 53.421875 \r\nQ 53.21875 48.921875 51.53125 44.890625 \r\nQ 49.859375 40.875 45.40625 35.40625 \r\nQ 44.1875 33.984375 37.640625 27.21875 \r\nQ 31.109375 20.453125 19.1875 8.296875 \r\nz\r\n\" id=\"DejaVuSans-50\"/>\r\n       </defs>\r\n       <use xlink:href=\"#DejaVuSans-50\"/>\r\n       <use x=\"63.623047\" xlink:href=\"#DejaVuSans-48\"/>\r\n       <use x=\"127.246094\" xlink:href=\"#DejaVuSans-48\"/>\r\n       <use x=\"190.869141\" xlink:href=\"#DejaVuSans-48\"/>\r\n      </g>\r\n     </g>\r\n    </g>\r\n    <g id=\"xtick_4\">\r\n     <g id=\"line2d_4\">\r\n      <g>\r\n       <use style=\"stroke:#000000;stroke-width:0.8;\" x=\"237.486364\" xlink:href=\"#mf9bf265945\" y=\"224.64\"/>\r\n      </g>\r\n     </g>\r\n     <g id=\"text_4\">\r\n      <!-- 3000 -->\r\n      <g transform=\"translate(224.761364 239.238437)scale(0.1 -0.1)\">\r\n       <defs>\r\n        <path d=\"M 40.578125 39.3125 \r\nQ 47.65625 37.796875 51.625 33 \r\nQ 55.609375 28.21875 55.609375 21.1875 \r\nQ 55.609375 10.40625 48.1875 4.484375 \r\nQ 40.765625 -1.421875 27.09375 -1.421875 \r\nQ 22.515625 -1.421875 17.65625 -0.515625 \r\nQ 12.796875 0.390625 7.625 2.203125 \r\nL 7.625 11.71875 \r\nQ 11.71875 9.328125 16.59375 8.109375 \r\nQ 21.484375 6.890625 26.8125 6.890625 \r\nQ 36.078125 6.890625 40.9375 10.546875 \r\nQ 45.796875 14.203125 45.796875 21.1875 \r\nQ 45.796875 27.640625 41.28125 31.265625 \r\nQ 36.765625 34.90625 28.71875 34.90625 \r\nL 20.21875 34.90625 \r\nL 20.21875 43.015625 \r\nL 29.109375 43.015625 \r\nQ 36.375 43.015625 40.234375 45.921875 \r\nQ 44.09375 48.828125 44.09375 54.296875 \r\nQ 44.09375 59.90625 40.109375 62.90625 \r\nQ 36.140625 65.921875 28.71875 65.921875 \r\nQ 24.65625 65.921875 20.015625 65.03125 \r\nQ 15.375 64.15625 9.8125 62.3125 \r\nL 9.8125 71.09375 \r\nQ 15.4375 72.65625 20.34375 73.4375 \r\nQ 25.25 74.21875 29.59375 74.21875 \r\nQ 40.828125 74.21875 47.359375 69.109375 \r\nQ 53.90625 64.015625 53.90625 55.328125 \r\nQ 53.90625 49.265625 50.4375 45.09375 \r\nQ 46.96875 40.921875 40.578125 39.3125 \r\nz\r\n\" id=\"DejaVuSans-51\"/>\r\n       </defs>\r\n       <use xlink:href=\"#DejaVuSans-51\"/>\r\n       <use x=\"63.623047\" xlink:href=\"#DejaVuSans-48\"/>\r\n       <use x=\"127.246094\" xlink:href=\"#DejaVuSans-48\"/>\r\n       <use x=\"190.869141\" xlink:href=\"#DejaVuSans-48\"/>\r\n      </g>\r\n     </g>\r\n    </g>\r\n    <g id=\"xtick_5\">\r\n     <g id=\"line2d_5\">\r\n      <g>\r\n       <use style=\"stroke:#000000;stroke-width:0.8;\" x=\"298.359091\" xlink:href=\"#mf9bf265945\" y=\"224.64\"/>\r\n      </g>\r\n     </g>\r\n     <g id=\"text_5\">\r\n      <!-- 4000 -->\r\n      <g transform=\"translate(285.634091 239.238437)scale(0.1 -0.1)\">\r\n       <defs>\r\n        <path d=\"M 37.796875 64.3125 \r\nL 12.890625 25.390625 \r\nL 37.796875 25.390625 \r\nz\r\nM 35.203125 72.90625 \r\nL 47.609375 72.90625 \r\nL 47.609375 25.390625 \r\nL 58.015625 25.390625 \r\nL 58.015625 17.1875 \r\nL 47.609375 17.1875 \r\nL 47.609375 0 \r\nL 37.796875 0 \r\nL 37.796875 17.1875 \r\nL 4.890625 17.1875 \r\nL 4.890625 26.703125 \r\nz\r\n\" id=\"DejaVuSans-52\"/>\r\n       </defs>\r\n       <use xlink:href=\"#DejaVuSans-52\"/>\r\n       <use x=\"63.623047\" xlink:href=\"#DejaVuSans-48\"/>\r\n       <use x=\"127.246094\" xlink:href=\"#DejaVuSans-48\"/>\r\n       <use x=\"190.869141\" xlink:href=\"#DejaVuSans-48\"/>\r\n      </g>\r\n     </g>\r\n    </g>\r\n    <g id=\"xtick_6\">\r\n     <g id=\"line2d_6\">\r\n      <g>\r\n       <use style=\"stroke:#000000;stroke-width:0.8;\" x=\"359.231818\" xlink:href=\"#mf9bf265945\" y=\"224.64\"/>\r\n      </g>\r\n     </g>\r\n     <g id=\"text_6\">\r\n      <!-- 5000 -->\r\n      <g transform=\"translate(346.506818 239.238437)scale(0.1 -0.1)\">\r\n       <defs>\r\n        <path d=\"M 10.796875 72.90625 \r\nL 49.515625 72.90625 \r\nL 49.515625 64.59375 \r\nL 19.828125 64.59375 \r\nL 19.828125 46.734375 \r\nQ 21.96875 47.46875 24.109375 47.828125 \r\nQ 26.265625 48.1875 28.421875 48.1875 \r\nQ 40.625 48.1875 47.75 41.5 \r\nQ 54.890625 34.8125 54.890625 23.390625 \r\nQ 54.890625 11.625 47.5625 5.09375 \r\nQ 40.234375 -1.421875 26.90625 -1.421875 \r\nQ 22.3125 -1.421875 17.546875 -0.640625 \r\nQ 12.796875 0.140625 7.71875 1.703125 \r\nL 7.71875 11.625 \r\nQ 12.109375 9.234375 16.796875 8.0625 \r\nQ 21.484375 6.890625 26.703125 6.890625 \r\nQ 35.15625 6.890625 40.078125 11.328125 \r\nQ 45.015625 15.765625 45.015625 23.390625 \r\nQ 45.015625 31 40.078125 35.4375 \r\nQ 35.15625 39.890625 26.703125 39.890625 \r\nQ 22.75 39.890625 18.8125 39.015625 \r\nQ 14.890625 38.140625 10.796875 36.28125 \r\nz\r\n\" id=\"DejaVuSans-53\"/>\r\n       </defs>\r\n       <use xlink:href=\"#DejaVuSans-53\"/>\r\n       <use x=\"63.623047\" xlink:href=\"#DejaVuSans-48\"/>\r\n       <use x=\"127.246094\" xlink:href=\"#DejaVuSans-48\"/>\r\n       <use x=\"190.869141\" xlink:href=\"#DejaVuSans-48\"/>\r\n      </g>\r\n     </g>\r\n    </g>\r\n   </g>\r\n   <g id=\"matplotlib.axis_2\">\r\n    <g id=\"ytick_1\">\r\n     <g id=\"line2d_7\">\r\n      <defs>\r\n       <path d=\"M 0 0 \r\nL -3.5 0 \r\n\" id=\"mfa819722d3\" style=\"stroke:#000000;stroke-width:0.8;\"/>\r\n      </defs>\r\n      <g>\r\n       <use style=\"stroke:#000000;stroke-width:0.8;\" x=\"39.65\" xlink:href=\"#mfa819722d3\" y=\"211.909241\"/>\r\n      </g>\r\n     </g>\r\n     <g id=\"text_7\">\r\n      <!-- 0 -->\r\n      <g transform=\"translate(26.2875 215.70846)scale(0.1 -0.1)\">\r\n       <use xlink:href=\"#DejaVuSans-48\"/>\r\n      </g>\r\n     </g>\r\n    </g>\r\n    <g id=\"ytick_2\">\r\n     <g id=\"line2d_8\">\r\n      <g>\r\n       <use style=\"stroke:#000000;stroke-width:0.8;\" x=\"39.65\" xlink:href=\"#mfa819722d3\" y=\"172.94412\"/>\r\n      </g>\r\n     </g>\r\n     <g id=\"text_8\">\r\n      <!-- 1000 -->\r\n      <g transform=\"translate(7.2 176.743339)scale(0.1 -0.1)\">\r\n       <use xlink:href=\"#DejaVuSans-49\"/>\r\n       <use x=\"63.623047\" xlink:href=\"#DejaVuSans-48\"/>\r\n       <use x=\"127.246094\" xlink:href=\"#DejaVuSans-48\"/>\r\n       <use x=\"190.869141\" xlink:href=\"#DejaVuSans-48\"/>\r\n      </g>\r\n     </g>\r\n    </g>\r\n    <g id=\"ytick_3\">\r\n     <g id=\"line2d_9\">\r\n      <g>\r\n       <use style=\"stroke:#000000;stroke-width:0.8;\" x=\"39.65\" xlink:href=\"#mfa819722d3\" y=\"133.978999\"/>\r\n      </g>\r\n     </g>\r\n     <g id=\"text_9\">\r\n      <!-- 2000 -->\r\n      <g transform=\"translate(7.2 137.778218)scale(0.1 -0.1)\">\r\n       <use xlink:href=\"#DejaVuSans-50\"/>\r\n       <use x=\"63.623047\" xlink:href=\"#DejaVuSans-48\"/>\r\n       <use x=\"127.246094\" xlink:href=\"#DejaVuSans-48\"/>\r\n       <use x=\"190.869141\" xlink:href=\"#DejaVuSans-48\"/>\r\n      </g>\r\n     </g>\r\n    </g>\r\n    <g id=\"ytick_4\">\r\n     <g id=\"line2d_10\">\r\n      <g>\r\n       <use style=\"stroke:#000000;stroke-width:0.8;\" x=\"39.65\" xlink:href=\"#mfa819722d3\" y=\"95.013878\"/>\r\n      </g>\r\n     </g>\r\n     <g id=\"text_10\">\r\n      <!-- 3000 -->\r\n      <g transform=\"translate(7.2 98.813097)scale(0.1 -0.1)\">\r\n       <use xlink:href=\"#DejaVuSans-51\"/>\r\n       <use x=\"63.623047\" xlink:href=\"#DejaVuSans-48\"/>\r\n       <use x=\"127.246094\" xlink:href=\"#DejaVuSans-48\"/>\r\n       <use x=\"190.869141\" xlink:href=\"#DejaVuSans-48\"/>\r\n      </g>\r\n     </g>\r\n    </g>\r\n    <g id=\"ytick_5\">\r\n     <g id=\"line2d_11\">\r\n      <g>\r\n       <use style=\"stroke:#000000;stroke-width:0.8;\" x=\"39.65\" xlink:href=\"#mfa819722d3\" y=\"56.048757\"/>\r\n      </g>\r\n     </g>\r\n     <g id=\"text_11\">\r\n      <!-- 4000 -->\r\n      <g transform=\"translate(7.2 59.847976)scale(0.1 -0.1)\">\r\n       <use xlink:href=\"#DejaVuSans-52\"/>\r\n       <use x=\"63.623047\" xlink:href=\"#DejaVuSans-48\"/>\r\n       <use x=\"127.246094\" xlink:href=\"#DejaVuSans-48\"/>\r\n       <use x=\"190.869141\" xlink:href=\"#DejaVuSans-48\"/>\r\n      </g>\r\n     </g>\r\n    </g>\r\n    <g id=\"ytick_6\">\r\n     <g id=\"line2d_12\">\r\n      <g>\r\n       <use style=\"stroke:#000000;stroke-width:0.8;\" x=\"39.65\" xlink:href=\"#mfa819722d3\" y=\"17.083636\"/>\r\n      </g>\r\n     </g>\r\n     <g id=\"text_12\">\r\n      <!-- 5000 -->\r\n      <g transform=\"translate(7.2 20.882855)scale(0.1 -0.1)\">\r\n       <use xlink:href=\"#DejaVuSans-53\"/>\r\n       <use x=\"63.623047\" xlink:href=\"#DejaVuSans-48\"/>\r\n       <use x=\"127.246094\" xlink:href=\"#DejaVuSans-48\"/>\r\n       <use x=\"190.869141\" xlink:href=\"#DejaVuSans-48\"/>\r\n      </g>\r\n     </g>\r\n    </g>\r\n   </g>\r\n   <g id=\"line2d_13\">\r\n    <path clip-path=\"url(#pc08e6fa3e7)\" d=\"M 54.868182 211.909241 \r\nL 61.079685 207.933208 \r\nL 67.291187 203.957176 \r\nL 73.50269 199.981143 \r\nL 79.714193 196.00511 \r\nL 85.925696 192.029077 \r\nL 92.137199 188.053045 \r\nL 98.348701 184.077012 \r\nL 104.560204 180.100979 \r\nL 110.771707 176.124946 \r\nL 116.98321 172.148914 \r\nL 123.194712 168.172881 \r\nL 129.406215 164.196848 \r\nL 135.617718 160.220815 \r\nL 141.829221 156.244783 \r\nL 148.040724 152.26875 \r\nL 154.252226 148.292717 \r\nL 160.463729 144.316684 \r\nL 166.675232 140.340652 \r\nL 172.886735 136.364619 \r\nL 179.098237 132.388586 \r\nL 185.30974 128.412553 \r\nL 191.521243 124.436521 \r\nL 197.732746 120.460488 \r\nL 203.944249 116.484455 \r\nL 210.155751 112.508422 \r\nL 216.367254 108.53239 \r\nL 222.578757 104.556357 \r\nL 228.79026 100.580324 \r\nL 235.001763 96.604291 \r\nL 241.213265 92.628259 \r\nL 247.424768 88.652226 \r\nL 253.636271 84.676193 \r\nL 259.847774 80.70016 \r\nL 266.059276 76.724128 \r\nL 272.270779 72.748095 \r\nL 278.482282 68.772062 \r\nL 284.693785 64.796029 \r\nL 290.905288 60.819997 \r\nL 297.11679 56.843964 \r\nL 303.328293 52.867931 \r\nL 309.539796 48.891898 \r\nL 315.751299 44.915866 \r\nL 321.962801 40.939833 \r\nL 328.174304 36.9638 \r\nL 334.385807 32.987767 \r\nL 340.59731 29.011735 \r\nL 346.808813 25.035702 \r\nL 353.020315 21.059669 \r\nL 359.231818 17.083636 \r\n\" style=\"fill:none;stroke:#ff0000;stroke-linecap:square;stroke-width:1.5;\"/>\r\n   </g>\r\n   <g id=\"patch_3\">\r\n    <path d=\"M 39.65 224.64 \r\nL 39.65 7.2 \r\n\" style=\"fill:none;stroke:#000000;stroke-linecap:square;stroke-linejoin:miter;stroke-width:0.8;\"/>\r\n   </g>\r\n   <g id=\"patch_4\">\r\n    <path d=\"M 374.45 224.64 \r\nL 374.45 7.2 \r\n\" style=\"fill:none;stroke:#000000;stroke-linecap:square;stroke-linejoin:miter;stroke-width:0.8;\"/>\r\n   </g>\r\n   <g id=\"patch_5\">\r\n    <path d=\"M 39.65 224.64 \r\nL 374.45 224.64 \r\n\" style=\"fill:none;stroke:#000000;stroke-linecap:square;stroke-linejoin:miter;stroke-width:0.8;\"/>\r\n   </g>\r\n   <g id=\"patch_6\">\r\n    <path d=\"M 39.65 7.2 \r\nL 374.45 7.2 \r\n\" style=\"fill:none;stroke:#000000;stroke-linecap:square;stroke-linejoin:miter;stroke-width:0.8;\"/>\r\n   </g>\r\n  </g>\r\n </g>\r\n <defs>\r\n  <clipPath id=\"pc08e6fa3e7\">\r\n   <rect height=\"217.44\" width=\"334.8\" x=\"39.65\" y=\"7.2\"/>\r\n  </clipPath>\r\n </defs>\r\n</svg>\r\n",
      "image/png": "[encoded data removed]"
     },
     "metadata": {
      "needs_background": "light"
     }
    }
   ],
   "source": [
    "\n",
    "perfect_fit = np.linspace(0, 5000)\n",
    "plt.scatter(y_val, y_val_predict)\n",
    "plt.plot(perfect_fit, perfect_fit, color=\"red\")"
   ]
  },
  {
   "source": [
    "We can see that for small values, the predictions are very good. However for larger values, the predictions get more inaccurate"
   ],
   "cell_type": "markdown",
   "metadata": {}
  },
  {
   "cell_type": "code",
   "execution_count": 6,
   "metadata": {},
   "outputs": [],
   "source": [
    "def basis(X):\n",
    "    return np.hstack([X, np.sin(np.pi * X), np.cos(np.pi * X)])"
   ]
  },
  {
   "cell_type": "code",
   "execution_count": 7,
   "metadata": {},
   "outputs": [],
   "source": [
    "def train(X, Y):\n",
    "    X = basis(X)\n",
    "    w = Lasso(X, Y, lmbd=5)\n",
    "    return w"
   ]
  },
  {
   "cell_type": "code",
   "execution_count": 8,
   "metadata": {},
   "outputs": [
    {
     "output_type": "stream",
     "name": "stdout",
     "text": [
      "iter=100 current objective=121815.273 nonzero weights=229 stop=0.28289\n",
      "iter=200 current objective=120535.502 nonzero weights=191 stop=0.20205\n",
      "iter=300 current objective=120065.688 nonzero weights=195 stop=0.12329\n",
      "iter=400 current objective=119775.663 nonzero weights=184 stop=0.13487\n",
      "iter=500 current objective=119604.110 nonzero weights=185 stop=0.06124\n",
      "iter=600 current objective=119506.657 nonzero weights=180 stop=0.04667\n",
      "iter=700 current objective=119453.600 nonzero weights=180 stop=0.02954\n",
      "iter=800 current objective=119413.800 nonzero weights=177 stop=0.04661\n",
      "iter=900 current objective=119381.764 nonzero weights=179 stop=0.03385\n",
      "iter=1000 current objective=119354.426 nonzero weights=179 stop=0.03198\n",
      "iter=1100 current objective=119330.297 nonzero weights=179 stop=0.02725\n",
      "iter=1200 current objective=119308.427 nonzero weights=179 stop=0.02730\n",
      "iter=1300 current objective=119288.177 nonzero weights=176 stop=0.03379\n",
      "iter=1400 current objective=119269.033 nonzero weights=177 stop=0.01911\n",
      "iter=1500 current objective=119250.651 nonzero weights=177 stop=0.03064\n",
      "iter=1600 current objective=119232.918 nonzero weights=179 stop=0.02207\n",
      "iter=1700 current objective=119215.704 nonzero weights=177 stop=0.01735\n",
      "iter=1800 current objective=119198.842 nonzero weights=178 stop=0.03668\n",
      "iter=1900 current objective=119182.199 nonzero weights=176 stop=0.03053\n",
      "iter=2000 current objective=119165.837 nonzero weights=177 stop=0.02698\n",
      "iter=2100 current objective=119149.694 nonzero weights=180 stop=0.02393\n",
      "iter=2200 current objective=119137.323 nonzero weights=176 stop=0.01101\n",
      "iter=2300 current objective=119130.836 nonzero weights=176 stop=0.01331\n",
      "iter=2400 current objective=119124.776 nonzero weights=176 stop=0.01838\n",
      "iter=2500 current objective=119118.961 nonzero weights=177 stop=0.01049\n",
      "iter=2600 current objective=119113.316 nonzero weights=175 stop=0.01290\n",
      "iter=2700 current objective=119107.859 nonzero weights=175 stop=0.01615\n",
      "iter=2800 current objective=119102.526 nonzero weights=175 stop=0.01995\n",
      "iter=2900 current objective=119097.244 nonzero weights=175 stop=0.00973\n",
      "iter=3000 current objective=119092.038 nonzero weights=176 stop=0.01127\n",
      "iter=3100 current objective=119086.903 nonzero weights=175 stop=0.01256\n",
      "iter=3200 current objective=119081.836 nonzero weights=178 stop=0.01422\n",
      "iter=3300 current objective=119076.828 nonzero weights=174 stop=0.01559\n",
      "iter=3400 current objective=119071.889 nonzero weights=174 stop=0.01704\n",
      "iter=3500 current objective=119067.196 nonzero weights=173 stop=0.01763\n",
      "iter=3600 current objective=119062.598 nonzero weights=174 stop=0.00761\n",
      "iter=3700 current objective=119058.036 nonzero weights=174 stop=0.00804\n",
      "iter=3800 current objective=119053.512 nonzero weights=174 stop=0.00838\n",
      "iter=3900 current objective=119049.018 nonzero weights=174 stop=0.00883\n",
      "iter=4000 current objective=119044.552 nonzero weights=174 stop=0.00928\n",
      "iter=4100 current objective=119040.110 nonzero weights=174 stop=0.00975\n",
      "iter=4200 current objective=119035.691 nonzero weights=174 stop=0.01032\n",
      "iter=4300 current objective=119032.790 nonzero weights=172 stop=0.00415\n",
      "iter=4400 current objective=119032.324 nonzero weights=172 stop=0.00458\n",
      "iter=4500 current objective=119032.011 nonzero weights=172 stop=0.00219\n",
      "iter=4600 current objective=119031.769 nonzero weights=172 stop=0.00227\n",
      "iter=4700 current objective=119031.567 nonzero weights=172 stop=0.00245\n",
      "iter=4800 current objective=119031.392 nonzero weights=171 stop=0.00251\n",
      "iter=4900 current objective=119031.235 nonzero weights=171 stop=0.00263\n",
      "iter=5000 current objective=119031.094 nonzero weights=171 stop=0.00276\n",
      "iter=5100 current objective=119030.964 nonzero weights=171 stop=0.00123\n",
      "iter=5200 current objective=119030.845 nonzero weights=171 stop=0.00128\n",
      "iter=5300 current objective=119030.735 nonzero weights=171 stop=0.00134\n",
      "iter=5400 current objective=119030.633 nonzero weights=170 stop=0.00140\n",
      "iter=5500 current objective=119030.538 nonzero weights=170 stop=0.00147\n",
      "iter=5600 current objective=119030.451 nonzero weights=170 stop=0.00154\n",
      "iter=5700 current objective=119030.369 nonzero weights=170 stop=0.00162\n",
      "iter=5800 current objective=119030.294 nonzero weights=170 stop=0.00170\n",
      "iter=5900 current objective=119030.224 nonzero weights=170 stop=0.00180\n",
      "iter=6000 current objective=119030.159 nonzero weights=170 stop=0.00189\n",
      "iter=6100 current objective=119030.099 nonzero weights=170 stop=0.00083\n",
      "iter=6200 current objective=119030.043 nonzero weights=170 stop=0.00088\n",
      "iter=6300 current objective=119029.990 nonzero weights=170 stop=0.00091\n",
      "iter=6400 current objective=119029.942 nonzero weights=170 stop=0.00096\n",
      "iter=6500 current objective=119029.919 nonzero weights=169 stop=0.00069\n",
      "iter=6600 current objective=119029.908 nonzero weights=169 stop=0.00043\n",
      "iter=6700 current objective=119029.900 nonzero weights=169 stop=0.00054\n",
      "iter=6800 current objective=119029.895 nonzero weights=169 stop=0.00032\n",
      "iter=6900 current objective=119029.891 nonzero weights=169 stop=0.00020\n",
      "iter=7000 current objective=119029.889 nonzero weights=169 stop=0.00028\n",
      "iter=7100 current objective=119029.887 nonzero weights=169 stop=0.00017\n",
      "iter=7200 current objective=119029.886 nonzero weights=169 stop=0.00023\n",
      "iter=7300 current objective=119029.885 nonzero weights=169 stop=0.00014\n",
      "iter=7400 current objective=119029.885 nonzero weights=169 stop=0.00009\n",
      "iter=7500 current objective=119029.884 nonzero weights=169 stop=0.00012\n",
      "iter=7600 current objective=119029.884 nonzero weights=169 stop=0.00007\n",
      "iter=7700 current objective=119029.884 nonzero weights=169 stop=0.00010\n",
      "iter=7800 current objective=119029.884 nonzero weights=169 stop=0.00006\n",
      "iter=7900 current objective=119029.883 nonzero weights=169 stop=0.00008\n",
      "iter=8000 current objective=119029.883 nonzero weights=169 stop=0.00005\n",
      "iter=8100 current objective=119029.883 nonzero weights=169 stop=0.00003\n",
      "iter=8200 current objective=119029.883 nonzero weights=169 stop=0.00004\n",
      "iter=8300 current objective=119029.883 nonzero weights=169 stop=0.00003\n",
      "iter=8400 current objective=119029.883 nonzero weights=169 stop=0.00003\n",
      "iter=8500 current objective=119029.883 nonzero weights=169 stop=0.00002\n",
      "iter=8600 current objective=119029.883 nonzero weights=169 stop=0.00003\n",
      "iter=8700 current objective=119029.883 nonzero weights=169 stop=0.00002\n",
      "iter=8800 current objective=119029.883 nonzero weights=169 stop=0.00001\n",
      "iter=8900 current objective=119029.883 nonzero weights=169 stop=0.00001\n",
      "iter=9000 current objective=119029.883 nonzero weights=169 stop=0.00001\n"
     ]
    }
   ],
   "source": [
    "w_predict = train(x_train, y_train)"
   ]
  },
  {
   "cell_type": "code",
   "execution_count": 9,
   "metadata": {},
   "outputs": [],
   "source": [
    "def Prediction(X):\n",
    "    return basis(X) @ w_predict"
   ]
  },
  {
   "source": [
    "## Exercise 8"
   ],
   "cell_type": "markdown",
   "metadata": {}
  },
  {
   "source": [
    "### (a)\n",
    "The minimization problem is convex because the primal problem is convex ($L_2$ norm is convex), and the equality constrain $Xw=b$ is linear."
   ],
   "cell_type": "markdown",
   "metadata": {}
  },
  {
   "source": [
    "### (b)\n",
    "First step: Show that the solution satisfies the constrain:\n",
    "\\begin{align*}\n",
    "X (w_0 - X^T (XX^T)^{-1} (Xw_0 - b))\n",
    "&= X w_0 - X (X^T (XX^T)^{-1} (Xw_0 - b)) \\\\\n",
    "&= X w_0 - XX^T (XX^T)^{-1} (Xw_0 - b)) \\\\\n",
    "&= X w_0 - (Xw_0 - b)) \\\\\n",
    "&= X w_0 - Xw_0 + b \\\\\n",
    "&= b \\\\\n",
    "\\end{align*}\n",
    "\n",
    "Now setup Lagrange Dual Problem:\n",
    "\\begin{align*}\n",
    "L(w, v) &= \\Vert w-w_0 \\Vert + v^T (Xw - b) \\\\\n",
    "\\end{align*}\n",
    "Compute derivative\n",
    "\\begin{align*}\n",
    "\\nabla_w L(w, v) &= \\nabla_w \\Vert w-w_0 \\Vert + v^T (Xw - b) \\\\\n",
    "&= 2(w-w_0) + v^T X \\\\\n",
    "\\end{align*}\n",
    "\n",
    "Set to 0:\n",
    "\\begin{align*}\n",
    " 0 & = 2(w-w_0) + v^T X \\\\\n",
    " w & = - v^T X \\frac{1}{2} + w_0\\\\\n",
    "\\end{align*}\n",
    "\n",
    "Plug in $L$ to get $g$.\n",
    "\\begin{align*}\n",
    "g(v) = L(- v^T X \\frac{1}{2} + w_0, v)\n",
    "&= \\Vert - v^T X \\frac{1}{2} + w_0 -w_0 \\Vert + v^T (X(- v^T X \\frac{1}{2} + w_0) - b)\\\\\n",
    "&= \\frac{1}{4} \\Vert v^T X \\Vert + v^T (X(- v^T X \\frac{1}{2} + w_0) - b)\n",
    "\\end{align*}\n"
   ],
   "cell_type": "markdown",
   "metadata": {}
  }
 ]
}