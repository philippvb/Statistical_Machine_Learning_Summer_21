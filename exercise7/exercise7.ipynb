{
 "metadata": {
  "language_info": {
   "codemirror_mode": {
    "name": "ipython",
    "version": 3
   },
   "file_extension": ".py",
   "mimetype": "text/x-python",
   "name": "python",
   "nbconvert_exporter": "python",
   "pygments_lexer": "ipython3",
   "version": "3.7.4"
  },
  "orig_nbformat": 4,
  "kernelspec": {
   "name": "python3",
   "display_name": "Python 3.7.4 64-bit ('base': conda)"
  },
  "interpreter": {
   "hash": "c2e66ee886b16deb6c5c6a69d669949c46fb67f048777418ad8d7650dc5ed882"
  }
 },
 "nbformat": 4,
 "nbformat_minor": 2,
 "cells": [
  {
   "source": [
    "## Exercise 11"
   ],
   "cell_type": "markdown",
   "metadata": {}
  },
  {
   "source": [
    "### a)"
   ],
   "cell_type": "markdown",
   "metadata": {}
  },
  {
   "source": [
    "$\\phi _m (x) = \\sqrt \\frac{d!}{\\prod m_i!} \\prod x_i^{m_i} $"
   ],
   "cell_type": "markdown",
   "metadata": {}
  },
  {
   "source": [
    "b)"
   ],
   "cell_type": "markdown",
   "metadata": {}
  },
  {
   "cell_type": "code",
   "execution_count": null,
   "metadata": {},
   "outputs": [],
   "source": []
  },
  {
   "source": [
    "### c)"
   ],
   "cell_type": "markdown",
   "metadata": {}
  },
  {
   "source": [
    "Input dimension: 16x16 = 256 (Pixel), Ouput dimension 1 (? Label for classification task)\n",
    "Problem might be d=5 does not represent input well?"
   ],
   "cell_type": "markdown",
   "metadata": {}
  },
  {
   "source": [
    "## Exercise 12"
   ],
   "cell_type": "markdown",
   "metadata": {}
  },
  {
   "cell_type": "code",
   "execution_count": null,
   "metadata": {},
   "outputs": [],
   "source": []
  },
  {
   "cell_type": "code",
   "execution_count": null,
   "metadata": {},
   "outputs": [],
   "source": [
    "from matplotlib import pyplot as plt\n",
    "import numpy as np\n",
    "from scipy.spatial.distance import cdis"
   ]
  },
  {
   "cell_type": "code",
   "execution_count": 4,
   "metadata": {},
   "outputs": [],
   "source": [
    "data = np.load(\"diabetes_data.npy\", allow_pickle=True).item()\n",
    "X_train = data[\"Xtrain\"]\n",
    "Y_train = data[\"Ytrain\"]\n",
    "X_test = data[\"Xtest\"]\n",
    "Y_test = data[\"Ytest\"]"
   ]
  },
  {
   "cell_type": "code",
   "execution_count": 5,
   "metadata": {},
   "outputs": [
    {
     "output_type": "execute_result",
     "data": {
      "text/plain": [
       "array([[-1.1411079 , -0.93500417,  0.56285595, ...,  0.051676  ,\n",
       "         0.38971492, -0.53067709],\n",
       "       [-1.1411079 , -0.87245064,  1.5961376 , ...,  1.4468785 ,\n",
       "         1.6573387 ,  0.14958163],\n",
       "       [-1.1411079 , -0.80989712, -0.26376935, ...,  1.5990824 ,\n",
       "        -0.31955075, -0.95583878],\n",
       "       ...,\n",
       "       [ 2.4201689 ,  0.00329872,  0.45952779, ..., -0.69665987,\n",
       "        -0.642493  ,  2.4454548 ],\n",
       "       [ 2.4201689 ,  0.94160161,  0.04621513, ...,  1.2439399 ,\n",
       "         0.81527433,  0.40467865],\n",
       "       [ 2.7169419 , -0.46585272,  0.04621513, ...,  0.27998186,\n",
       "        -0.66663821,  1.5951314 ]])"
      ]
     },
     "metadata": {},
     "execution_count": 5
    }
   ],
   "source": []
  },
  {
   "cell_type": "code",
   "execution_count": null,
   "metadata": {},
   "outputs": [],
   "source": []
  }
 ]
}